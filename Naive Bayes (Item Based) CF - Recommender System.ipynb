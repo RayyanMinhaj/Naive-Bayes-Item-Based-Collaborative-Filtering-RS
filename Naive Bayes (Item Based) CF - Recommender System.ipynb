{
  "cells": [
    {
      "cell_type": "markdown",
      "source": [
        "# Rayyan Minhaj (20K-0143 | BSC-8B)\n",
        "## Recommended Systems Assignment 01 - Part III\n",
        "\n",
        "\n",
        "---\n",
        "\n",
        "\n",
        "### Probabilistic Collaborative Filtering\n",
        "Download the Python notebook given with this assignment. It contains sample data and starter code. Your\n",
        "task is to implement the functions to find the likelihood, prior and posterior for item-based Naïve Bayes\n",
        "Collaborative Filtering.\n",
        "Note: You are allowed to import and use basic libraries such as pandas, numpy and scikit in your functions."
      ],
      "metadata": {
        "id": "OHCTJgOAKjoX"
      },
      "id": "OHCTJgOAKjoX"
    },
    {
      "cell_type": "code",
      "execution_count": 1,
      "id": "c1c78c7e",
      "metadata": {
        "id": "c1c78c7e"
      },
      "outputs": [],
      "source": [
        "import pandas as pd\n",
        "import numpy as np"
      ]
    },
    {
      "cell_type": "code",
      "execution_count": 2,
      "id": "924e4e39",
      "metadata": {
        "scrolled": true,
        "id": "924e4e39"
      },
      "outputs": [],
      "source": [
        "matrix = pd.DataFrame({'Item 1': [5, 4, 5, 1], 'Item 2': [3, 2, 'NaN', 5], 'Item 3': [3, 3, 4, 4], 'Item 4': ['NaN', 3, 2, 3]}, index=['User 1', 'User 2', 'User 3', 'User 4'])"
      ]
    },
    {
      "cell_type": "code",
      "execution_count": 3,
      "id": "71ba2947",
      "metadata": {
        "scrolled": true,
        "id": "71ba2947",
        "outputId": "6c88e9fc-6584-4c13-f43d-af1d126931c2",
        "colab": {
          "base_uri": "https://localhost:8080/",
          "height": 175
        }
      },
      "outputs": [
        {
          "output_type": "execute_result",
          "data": {
            "text/plain": [
              "        Item 1 Item 2  Item 3 Item 4\n",
              "User 1       5      3       3    NaN\n",
              "User 2       4      2       3      3\n",
              "User 3       5    NaN       4      2\n",
              "User 4       1      5       4      3"
            ],
            "text/html": [
              "\n",
              "  <div id=\"df-36920850-584d-4c23-8add-d4fb1082a71b\" class=\"colab-df-container\">\n",
              "    <div>\n",
              "<style scoped>\n",
              "    .dataframe tbody tr th:only-of-type {\n",
              "        vertical-align: middle;\n",
              "    }\n",
              "\n",
              "    .dataframe tbody tr th {\n",
              "        vertical-align: top;\n",
              "    }\n",
              "\n",
              "    .dataframe thead th {\n",
              "        text-align: right;\n",
              "    }\n",
              "</style>\n",
              "<table border=\"1\" class=\"dataframe\">\n",
              "  <thead>\n",
              "    <tr style=\"text-align: right;\">\n",
              "      <th></th>\n",
              "      <th>Item 1</th>\n",
              "      <th>Item 2</th>\n",
              "      <th>Item 3</th>\n",
              "      <th>Item 4</th>\n",
              "    </tr>\n",
              "  </thead>\n",
              "  <tbody>\n",
              "    <tr>\n",
              "      <th>User 1</th>\n",
              "      <td>5</td>\n",
              "      <td>3</td>\n",
              "      <td>3</td>\n",
              "      <td>NaN</td>\n",
              "    </tr>\n",
              "    <tr>\n",
              "      <th>User 2</th>\n",
              "      <td>4</td>\n",
              "      <td>2</td>\n",
              "      <td>3</td>\n",
              "      <td>3</td>\n",
              "    </tr>\n",
              "    <tr>\n",
              "      <th>User 3</th>\n",
              "      <td>5</td>\n",
              "      <td>NaN</td>\n",
              "      <td>4</td>\n",
              "      <td>2</td>\n",
              "    </tr>\n",
              "    <tr>\n",
              "      <th>User 4</th>\n",
              "      <td>1</td>\n",
              "      <td>5</td>\n",
              "      <td>4</td>\n",
              "      <td>3</td>\n",
              "    </tr>\n",
              "  </tbody>\n",
              "</table>\n",
              "</div>\n",
              "    <div class=\"colab-df-buttons\">\n",
              "\n",
              "  <div class=\"colab-df-container\">\n",
              "    <button class=\"colab-df-convert\" onclick=\"convertToInteractive('df-36920850-584d-4c23-8add-d4fb1082a71b')\"\n",
              "            title=\"Convert this dataframe to an interactive table.\"\n",
              "            style=\"display:none;\">\n",
              "\n",
              "  <svg xmlns=\"http://www.w3.org/2000/svg\" height=\"24px\" viewBox=\"0 -960 960 960\">\n",
              "    <path d=\"M120-120v-720h720v720H120Zm60-500h600v-160H180v160Zm220 220h160v-160H400v160Zm0 220h160v-160H400v160ZM180-400h160v-160H180v160Zm440 0h160v-160H620v160ZM180-180h160v-160H180v160Zm440 0h160v-160H620v160Z\"/>\n",
              "  </svg>\n",
              "    </button>\n",
              "\n",
              "  <style>\n",
              "    .colab-df-container {\n",
              "      display:flex;\n",
              "      gap: 12px;\n",
              "    }\n",
              "\n",
              "    .colab-df-convert {\n",
              "      background-color: #E8F0FE;\n",
              "      border: none;\n",
              "      border-radius: 50%;\n",
              "      cursor: pointer;\n",
              "      display: none;\n",
              "      fill: #1967D2;\n",
              "      height: 32px;\n",
              "      padding: 0 0 0 0;\n",
              "      width: 32px;\n",
              "    }\n",
              "\n",
              "    .colab-df-convert:hover {\n",
              "      background-color: #E2EBFA;\n",
              "      box-shadow: 0px 1px 2px rgba(60, 64, 67, 0.3), 0px 1px 3px 1px rgba(60, 64, 67, 0.15);\n",
              "      fill: #174EA6;\n",
              "    }\n",
              "\n",
              "    .colab-df-buttons div {\n",
              "      margin-bottom: 4px;\n",
              "    }\n",
              "\n",
              "    [theme=dark] .colab-df-convert {\n",
              "      background-color: #3B4455;\n",
              "      fill: #D2E3FC;\n",
              "    }\n",
              "\n",
              "    [theme=dark] .colab-df-convert:hover {\n",
              "      background-color: #434B5C;\n",
              "      box-shadow: 0px 1px 3px 1px rgba(0, 0, 0, 0.15);\n",
              "      filter: drop-shadow(0px 1px 2px rgba(0, 0, 0, 0.3));\n",
              "      fill: #FFFFFF;\n",
              "    }\n",
              "  </style>\n",
              "\n",
              "    <script>\n",
              "      const buttonEl =\n",
              "        document.querySelector('#df-36920850-584d-4c23-8add-d4fb1082a71b button.colab-df-convert');\n",
              "      buttonEl.style.display =\n",
              "        google.colab.kernel.accessAllowed ? 'block' : 'none';\n",
              "\n",
              "      async function convertToInteractive(key) {\n",
              "        const element = document.querySelector('#df-36920850-584d-4c23-8add-d4fb1082a71b');\n",
              "        const dataTable =\n",
              "          await google.colab.kernel.invokeFunction('convertToInteractive',\n",
              "                                                    [key], {});\n",
              "        if (!dataTable) return;\n",
              "\n",
              "        const docLinkHtml = 'Like what you see? Visit the ' +\n",
              "          '<a target=\"_blank\" href=https://colab.research.google.com/notebooks/data_table.ipynb>data table notebook</a>'\n",
              "          + ' to learn more about interactive tables.';\n",
              "        element.innerHTML = '';\n",
              "        dataTable['output_type'] = 'display_data';\n",
              "        await google.colab.output.renderOutput(dataTable, element);\n",
              "        const docLink = document.createElement('div');\n",
              "        docLink.innerHTML = docLinkHtml;\n",
              "        element.appendChild(docLink);\n",
              "      }\n",
              "    </script>\n",
              "  </div>\n",
              "\n",
              "\n",
              "<div id=\"df-e364664f-b4a1-4190-bcbb-40b4880dd09a\">\n",
              "  <button class=\"colab-df-quickchart\" onclick=\"quickchart('df-e364664f-b4a1-4190-bcbb-40b4880dd09a')\"\n",
              "            title=\"Suggest charts\"\n",
              "            style=\"display:none;\">\n",
              "\n",
              "<svg xmlns=\"http://www.w3.org/2000/svg\" height=\"24px\"viewBox=\"0 0 24 24\"\n",
              "     width=\"24px\">\n",
              "    <g>\n",
              "        <path d=\"M19 3H5c-1.1 0-2 .9-2 2v14c0 1.1.9 2 2 2h14c1.1 0 2-.9 2-2V5c0-1.1-.9-2-2-2zM9 17H7v-7h2v7zm4 0h-2V7h2v10zm4 0h-2v-4h2v4z\"/>\n",
              "    </g>\n",
              "</svg>\n",
              "  </button>\n",
              "\n",
              "<style>\n",
              "  .colab-df-quickchart {\n",
              "      --bg-color: #E8F0FE;\n",
              "      --fill-color: #1967D2;\n",
              "      --hover-bg-color: #E2EBFA;\n",
              "      --hover-fill-color: #174EA6;\n",
              "      --disabled-fill-color: #AAA;\n",
              "      --disabled-bg-color: #DDD;\n",
              "  }\n",
              "\n",
              "  [theme=dark] .colab-df-quickchart {\n",
              "      --bg-color: #3B4455;\n",
              "      --fill-color: #D2E3FC;\n",
              "      --hover-bg-color: #434B5C;\n",
              "      --hover-fill-color: #FFFFFF;\n",
              "      --disabled-bg-color: #3B4455;\n",
              "      --disabled-fill-color: #666;\n",
              "  }\n",
              "\n",
              "  .colab-df-quickchart {\n",
              "    background-color: var(--bg-color);\n",
              "    border: none;\n",
              "    border-radius: 50%;\n",
              "    cursor: pointer;\n",
              "    display: none;\n",
              "    fill: var(--fill-color);\n",
              "    height: 32px;\n",
              "    padding: 0;\n",
              "    width: 32px;\n",
              "  }\n",
              "\n",
              "  .colab-df-quickchart:hover {\n",
              "    background-color: var(--hover-bg-color);\n",
              "    box-shadow: 0 1px 2px rgba(60, 64, 67, 0.3), 0 1px 3px 1px rgba(60, 64, 67, 0.15);\n",
              "    fill: var(--button-hover-fill-color);\n",
              "  }\n",
              "\n",
              "  .colab-df-quickchart-complete:disabled,\n",
              "  .colab-df-quickchart-complete:disabled:hover {\n",
              "    background-color: var(--disabled-bg-color);\n",
              "    fill: var(--disabled-fill-color);\n",
              "    box-shadow: none;\n",
              "  }\n",
              "\n",
              "  .colab-df-spinner {\n",
              "    border: 2px solid var(--fill-color);\n",
              "    border-color: transparent;\n",
              "    border-bottom-color: var(--fill-color);\n",
              "    animation:\n",
              "      spin 1s steps(1) infinite;\n",
              "  }\n",
              "\n",
              "  @keyframes spin {\n",
              "    0% {\n",
              "      border-color: transparent;\n",
              "      border-bottom-color: var(--fill-color);\n",
              "      border-left-color: var(--fill-color);\n",
              "    }\n",
              "    20% {\n",
              "      border-color: transparent;\n",
              "      border-left-color: var(--fill-color);\n",
              "      border-top-color: var(--fill-color);\n",
              "    }\n",
              "    30% {\n",
              "      border-color: transparent;\n",
              "      border-left-color: var(--fill-color);\n",
              "      border-top-color: var(--fill-color);\n",
              "      border-right-color: var(--fill-color);\n",
              "    }\n",
              "    40% {\n",
              "      border-color: transparent;\n",
              "      border-right-color: var(--fill-color);\n",
              "      border-top-color: var(--fill-color);\n",
              "    }\n",
              "    60% {\n",
              "      border-color: transparent;\n",
              "      border-right-color: var(--fill-color);\n",
              "    }\n",
              "    80% {\n",
              "      border-color: transparent;\n",
              "      border-right-color: var(--fill-color);\n",
              "      border-bottom-color: var(--fill-color);\n",
              "    }\n",
              "    90% {\n",
              "      border-color: transparent;\n",
              "      border-bottom-color: var(--fill-color);\n",
              "    }\n",
              "  }\n",
              "</style>\n",
              "\n",
              "  <script>\n",
              "    async function quickchart(key) {\n",
              "      const quickchartButtonEl =\n",
              "        document.querySelector('#' + key + ' button');\n",
              "      quickchartButtonEl.disabled = true;  // To prevent multiple clicks.\n",
              "      quickchartButtonEl.classList.add('colab-df-spinner');\n",
              "      try {\n",
              "        const charts = await google.colab.kernel.invokeFunction(\n",
              "            'suggestCharts', [key], {});\n",
              "      } catch (error) {\n",
              "        console.error('Error during call to suggestCharts:', error);\n",
              "      }\n",
              "      quickchartButtonEl.classList.remove('colab-df-spinner');\n",
              "      quickchartButtonEl.classList.add('colab-df-quickchart-complete');\n",
              "    }\n",
              "    (() => {\n",
              "      let quickchartButtonEl =\n",
              "        document.querySelector('#df-e364664f-b4a1-4190-bcbb-40b4880dd09a button');\n",
              "      quickchartButtonEl.style.display =\n",
              "        google.colab.kernel.accessAllowed ? 'block' : 'none';\n",
              "    })();\n",
              "  </script>\n",
              "</div>\n",
              "    </div>\n",
              "  </div>\n"
            ],
            "application/vnd.google.colaboratory.intrinsic+json": {
              "type": "dataframe",
              "variable_name": "matrix",
              "repr_error": "'str' object has no attribute 'empty'"
            }
          },
          "metadata": {},
          "execution_count": 3
        }
      ],
      "source": [
        "matrix.head()"
      ]
    },
    {
      "cell_type": "code",
      "execution_count": 4,
      "id": "3e8475d9",
      "metadata": {
        "id": "3e8475d9"
      },
      "outputs": [],
      "source": [
        "n_ratings = 5\n",
        "active_user = 1 # for this assignment\n",
        "active_item = 4 # for this assignment"
      ]
    },
    {
      "cell_type": "markdown",
      "id": "71e21f03",
      "metadata": {
        "id": "71e21f03"
      },
      "source": [
        "<h3 style=\"color:red\">Do not change anything in the data/code given above</h3>"
      ]
    },
    {
      "cell_type": "markdown",
      "id": "3447e866",
      "metadata": {
        "id": "3447e866"
      },
      "source": [
        "<h1> Task 1 </h1>"
      ]
    },
    {
      "cell_type": "code",
      "source": [
        "_alpha=0.01\n",
        "_beta=_alpha*5\n"
      ],
      "metadata": {
        "id": "PjdrQnqoLsEW"
      },
      "id": "PjdrQnqoLsEW",
      "execution_count": 5,
      "outputs": []
    },
    {
      "cell_type": "markdown",
      "id": "22c0e931",
      "metadata": {
        "id": "22c0e931"
      },
      "source": [
        "You need to implement the following functions:"
      ]
    },
    {
      "cell_type": "markdown",
      "source": [
        "![image.png](data:image/png;base64,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)"
      ],
      "metadata": {
        "id": "7ZkVcV-bNIsW"
      },
      "id": "7ZkVcV-bNIsW"
    },
    {
      "cell_type": "code",
      "source": [
        "from functools import reduce\n",
        "\n",
        "#this is to multiply list elements, not for any RS functions"
      ],
      "metadata": {
        "id": "ajisq4NBe3Li"
      },
      "id": "ajisq4NBe3Li",
      "execution_count": 44,
      "outputs": []
    },
    {
      "cell_type": "code",
      "source": [
        "def likelihood(matrix, rating):\n",
        "    #matrix will be fixed and so will the rating because in item-based naive-bayes\n",
        "    #we keep ratings same for ex. P(Ruj=1|Rui=1) and so on\n",
        "\n",
        "    #num_count=0\n",
        "    #denom_count=0\n",
        "    #lik=1\n",
        "    #numerator=num of items rated as 'rating' by both\n",
        "    #denominator=num of items rated anything by user j but 'rating' by user i (Active user=1)\n",
        "\n",
        "    lik=[]\n",
        "    for i in range(1,5): #iterating through non active users\n",
        "       if i != active_user:\n",
        "        num_count=0\n",
        "        denom_count=0\n",
        "\n",
        "        for j in range(1,5): #for each user we will iterate through all items 1-3\n",
        "          if j != active_item:\n",
        "            if matrix[f'Item {j}']['User 1']==matrix[f'Item {j}'][f'User {i}']==rating:\n",
        "              num_count+=1\n",
        "\n",
        "            if matrix[f'Item {j}']['User 1']==rating and matrix[f'Item {j}'][f'User {i}']!='NaN':\n",
        "              denom_count+=1\n",
        "\n",
        "\n",
        "        #print(num_count)\n",
        "        #print(denom_count)\n",
        "        lik.append((num_count+_alpha)/(denom_count+_beta))\n",
        "        #print(lik)\n",
        "\n",
        "    total=0\n",
        "    total = reduce(lambda a, b: a*b, lik)\n",
        "\n",
        "    #we now have a list that we need to multiply its elemts with (Reduce)\n",
        "    #print(total)\n",
        "    return total"
      ],
      "metadata": {
        "id": "2ZBxlksCgW6p"
      },
      "id": "2ZBxlksCgW6p",
      "execution_count": 55,
      "outputs": []
    },
    {
      "cell_type": "code",
      "source": [
        "#you can check individual here P(Ruj = 5 | Pui = 5)\n",
        "#or any other prob of ratings between 1-5\n",
        "\n",
        "print(likelihood(matrix,5))"
      ],
      "metadata": {
        "colab": {
          "base_uri": "https://localhost:8080/"
        },
        "id": "sROm-93wV6hF",
        "outputId": "083dce58-6e69-4324-dc04-5edd8315d326"
      },
      "id": "sROm-93wV6hF",
      "execution_count": 61,
      "outputs": [
        {
          "output_type": "stream",
          "name": "stdout",
          "text": [
            "8.724759745167906e-05\n"
          ]
        }
      ]
    },
    {
      "cell_type": "markdown",
      "source": [
        "![image.png](data:image/png;base64,iVBORw0KGgoAAAANSUhEUgAAA2IAAACgCAYAAABuZ9+wAAAAAXNSR0IArs4c6QAAAARnQU1BAACxjwv8YQUAAAAJcEhZcwAAEnQAABJ0Ad5mH3gAAGq5SURBVHhe7b0PXFTXmf//2VokmjEWbMJA6qhlsOskKUzdjnGVpI76c8wq1HXKbqAaiIlIilozCRuWlDRsKSkGrZEE0SrGFLKlpNY/G6cl4reKX+O0dmCTjN/EodEhgbEpzBomGqR2f+fce2eY/8wAIuLzfr1gZs7cuffcc55z7vM5f/8uPj7+f0EQBEEQBEEQBEGMGF+QXgmCIAiCIAiCIIgRgoQYQRAEQRAEQRDECENCjCAIgiAIgiAIYoQhIUYQBEEQBEEQBDHCkBAjCIIgCIIgCIIYYUiIEQRBEARBEARBjDAkxAiCIAiCIAiCIEYYEmIEQRAEQRAEQRAjDAkxgiAIgiAIgiCIEYaEGEEQBEEQBEEQxAgzpoWYYU8jGht3wyB9jhw50gp2Y7+Rn6cR+19IA5YUo559PrzTALV0FEEMJ/rN+4dotzcCOXJfPoxGYz1KV0pBYxoDdvM6YbNe/DhsGCI6r+65emYrh7F7U39t5G8/oyVvDNcpzYaPm7PsDQA9s4adQOWOCEJCLqoOMx+qvhSjt+RHgGE3y/v9KB8LzzmqG0YFgxJiuTu4MDmMbdlSgA/aEl5JNaK+RCuFeJP2An/YNaJqnRQwSpGvew5rFysQ1W3BiUYTznWzQFm0+OUNQ4/y/aIw9Po7vB+7N+cjLUE6zAu56GAcZg7GXCnoViKBpVkDVTbXl3jIoqS3xIghGy+9CQnlzS3NDX9mjT3CK3eEQLwMlFyjFKobRgWDEmIHztnY/2go7gnUvqHG/BkxwruYGfMDOL5qpNwtY682WA+KIaOVrG8o2V3acOypjSgpL0JBOYvwG0XI0C3GsrUVMEvH3RCu2GBqbEIT+zO9a0Pn5zIoUtKx/qVy6H3EmDzjSWSlRMF6uAgVp6TAW4mOBhS8bkbfjAXIHzUtmFoYttVj/46x0vZuRsXaZVisy0DRG1IQcd1pKMrA4sXLsGZrqNooSN5kFWNfw3XoJbte5w1KJopf24/60nDb28da2ZMIlu6j5Zk1hgiv3BECZyqwZtliLM4oQoMUxNFu2ob6/VWjtvd5tMcvIqhuGNUMSojZX7cwecLE9DQ1e6T5kKDFNDnQe6UXuDMeGinYjfQ97BfQ1CEGjU60iP0Se3F24cJojOe1LpjLy1DG/oo2rcFq/SpUtziByWqkZXuKDR3W69WQdZzEzh12KewW5I0tOGgBFAuymds2GohFnCKGWlaJG4d8GuInR2HYO8uu13mDEs+eKTJEhV2WxmjZG/F0J4jBE5ugQMwoLoSjPX4RQXXDqGZwc8Q6mnCB+/QxUzF/thjkQv5tJRToRXtHNzBuKlS+wxfT+PeA48PmUa7AYxF1U1mtHQ1bTehk7+IVHvI3aymSY3ph+W3ZLd7iYUfNm61wTFAh9QneEkAQBEEQBEEQN46/i4+P/1/pfUTweWCFc2NgM67Cmor+nhY+f0w/3YqGF7ux8N80iGqpxoqn+zukc7YdRqaqD+YdK1DgGiYzNxelj+uQnCBD9Dj2udcJW6sR1UXVMIlHhES+IBfrV3n8/ooDlrd2wJ5SCO1UG4yL16BCPFRA83gpcpckQzFZHB/be8mG1t9Uo2iXeDU+nyo3hQ+f9MQpxdmA3Y06xHreF5+8qYtl3z+N5sRC5DygEIfeXnOi88wvUVJUB6t4pARfBOQ5fHeuEjHSZZyfWGF6/XmUHRqo14rPEcuFmsmq6hUFXl394mR4HRQfGrF4rXjHQnrPaENd2kbUCCEc6RwOI4pOxSF/uRrxE8DycjHLS+mQEPBFUHQxwa/vlTbXlUxsO5gD1Xhmb7o8VEuhLtT/vg/lC+Jh3b8Kea/wdNWitL4QGqcRqx6tYNIsFHJo161H1qJ+OxHs8ngNisoPevxWg9zSXOiSpTxn9F6y4tiOPFS8JX72JbB99ae/+H03jI/UwrkpG7r74iFzlQu/63OGYE9u281jtutxjmu9cHa0wrirCNWew1ldx++qgWNRDrQz2MFO0RbgirdPecPMNBRu/C4002L608jpQPupn+N5r3uJ3C7dabW4Gk7PfGBlz9Fmws9Ly3DQ3aM98PmV6YUw/IsGU2OluoSnQ3d7gLQ0uG0973gSnntYA+WdYuL71ici4dqTIbLzuvOvvz7tT5P+fPAOM4j1hPhVPywfjb+XQ8fKjONUGTKKm6QvXEjl7XMTKjKKYJRC+zEEPa9YVxjc9/Z0cxIKV81zp4XTzq79SoG3rQWwG9/jhLpoqvi+H1ddLX30YNjLXgKLYxGLYyKLo2AvgewuGOHahEhA2zx/DNvXAVlhpvuKp9tQ+Go5tAmdaHpmNcrOiIe68K8zB35eBsfgcV2f50EAu3WnpWd+f2LCLzOLUCd+ZIRX17nzsdiEuCeWQy1nJ2xnz0VW7wdHyc5t8D53+wn88qgM3+GjTDzvwyv+UrmABTXsOdsfV5HMrYeRc+9lmF7MQNFvxLDw0jTyZ4uI6z6msvtwJWQnzG9WoiBg3RHab3HZxODqBE5/vSuk/8py7F+nhl8p9MyfsMpV/3lX7R+P0kek+oSVi84zdUL8ncsL+8MZzg+bUPPDAcrmQPELlW7vGFH5tL/fOhxlqOaTpcjRsmuN66/f/HxfXifYTnrco/j78OoGX9sO35/1rcd6P7Ew38HObEcLRchyF6kPNzYZ9KqJTSfPwcFeFUnpYoAAS1A+P6nDigNvmXHe6Tt8UQtlPMuoKzacdYswA3YX6aG5qw/tZ6Q5T8yAFBo9infksiweAPb7UgP7PbvuxXdOCL8/8X4PFA89iXl3Scd4oGFGVpyhQdzfmHMlzLEy4eI4BTQZxahaJ16t7fdHhXDbFfbBPRfrKEznha+DIv+nzVg/F7AcF89ruyJDvCYHxf/uOVSQL5xRhfWLlYj61IwT/Ny/s6DnDiW0G15C6RLpsEEgf0LqbWTOikgaZt3N0ruDPSCkEC9kc/DU4mic3LoKixeHJ8KGDV7YfRcc8fsbaPWyOhx5h1nhOCVS/BZ+0UKfEs/yz4IT7gLcBPMFZpQJSnhabUBWPon1K73txNYng2LxWpS655nJkbujGHpNHHrOibbXZLLi8vgpiJssHRIAL/tyWMTfsb/md8XvRSZB9aMnsVzugLlJtBEHezTw6xdme5aK4bGnSfeXYu0DU9BlEeNiaruMqKka6A3+cw450/U5mPVxDfKY3Sz2E+Qe8PK9ZT20Myei74JJvNffmXERMVAuXo+qzXr/Mh6xXUYhbnMh9Crg3Ns8/idgvgjEzNRi7Y8M/sOjg5yf1w0/zWd11B39ddGJd9iJYnlaVqE8wy+mwEQNSnPnYYorH3n+38brk0Lv48OyJw/CPe+geA/N/JwWXoP3wmYS77XpGMufvSZYr7G0+/uFHvW2xLpUqJhw7WxpCOJwBT9vm3iAyF1LsTmP5cr7J4XvTR86IZOroX+i2CuvDM8wu0mMQvdZqV5/14Eofhy3SemY95r5NXjZYFdsl+wrRF09rGWPLwL0ErftKPS4nj1nezCR2d36n5ZCJx0WlAhsIpBtNp1pR9/tsYgNN90FzKg5zd2oeMxa6mt3aiyf5V1nhvO8HB50KP2plN+tYvxPtNhY2ZOzmLqItK6bhDnrFyL65Bas4vVUSBHGz82e3+zcE/uYsJPu1S7TIOdhlb9T7oX0HJqQiDl+C5jlYE4ifwab0eASYWGl6eCeLQKGQjGNmH270sgRFQ81rzsCzNscyG8xD6lOCMB5E46yeJnae9kHByxCGrC/5vfE7yMtV7epUPq4qz7h8Y8W4l/4XLFQh06S6gWhnpnBngnFA/iVA8VPImC6peiR/6z3E2dYytC0DOTccwE1G5gdL3Y1Xujx5AYf39nWJ97jD10Lk0VSN3gTnj/L768UT7J6TDHuIsy/48eegOVzBdIN8xAnHROcSH24sckXpdfI+Q0TWus0iIlLFB6KgiO2chYUvFD+qQl2VuGftWVDrRKHLzbxlrfZ8zGVr+PR5hIGahgeZ2r9i51oen41ytytoWKFm5uyEOsXVaMoaOuP9PtoJ8y78lBQ359Z8uWleGmDBqI+l5htQO5iBaI7mlD0SFl/qwUv+C/nQq1lhX9HEZrqK1nsWdhcZlwQ52IFdTTdMCO9w4zq7zGn1NXaMrcY+0pShcKpZWcU2pLYwzcrRQZnSzXynm7ob/WcW4h9z2mhWZHL0ta3XWAAZmqQ+U85+PYSJStrVhzd4Wq1SsIUVmk7LOekzz6wvDj34kZUH5M+jySHqlHWGvrxBjiFuYihMP7KjEwNc1BS8pnVVPan55KFSGL35zAd8WqhbLB3M7uSI5ErsQNiWGDYtX+3HWU/8miZZvlZz/JTkaJj1zKz8CxohIdsEwo2lfUfx4Qey4mgmD3ty2lDWXkgByGGVWJGlKyqcNupPHsbfpalgup+Fvm9ko0Miz3JoFSeQ/XaNf22y9A8uw+lD6qRsU6LBq+WUBliug9g1fP+rfbeBC+f7Oww7CmGLiUD65c0uFuKBSK2S+Zk3MXK9AqPMs1yKGfbz5Cp0iFnHUvDHVIwJ9D5XXXDJVaGN3iUYY7QWKSDWr8eunrvVl/ZzCSc2/UY1njem1Tu1d9eC219iVjuw7KnfsI/72Awoqac3QVzELSqKHT9sQxlHr1HJ87qoLw3CQuZY9vkzhc58lOYVV9jTureYIOcQ5/XhSwh1sceNCh+rRSp8nuRvggwuer7P1vQsIvlk8dzIffln0HP0kaTwcpyPbvinjJ2VQN2L1YhqsvMylLomno4y55+UxbUk/1tW1PAys1iDdKZY2H0tDs/wrSJJaV4ShfENl2Eke4u7K+0wJrG6qivezyXOIv0uJf5hc6WE2KdGe7zUgoeEulaqFi5dLbUYk2RRx7O9KhLI67r2Ak/rMBG9/MwBNK5e9tZvjPB1l+PSPWUX6+rN8Zj5/CoRsPsg8XBVTdzmI/EhYrtdzUspRlhp+ngni0Cf+uCpb4aGz16W+SPV+FnGUok3c+8tTc8y0gYfktH5RDqhACcaUAl8wd5r6Vmag9szL/yLIURl6s74+CsfQwb90rHsjTeXcqeO/NTfWyFif16AzTTU4SG2KBPxQHiJxIi3b6eztKNiT8eNkxlSHZHFw58v8SvJ895/gS2b/YMZ3VpHatLZyRDl8Dqu47w6mR/wvRngz43XT68lwcekEh9uLHIoHvEuPQ6a+tl+TUdavbw5GiTp7Psc6D9bbFQ1pxtZ//jMe1bouqXf2ua0LplOyd5wLOXI5lVcL3vH/MQYRw7Gn5/jj2mYiBPloICkaATfo+2o9ji6bAw7Ie2MyOUPkiolyYz1d4LyzFPh43R0QCT1cnqbbnUijA4Ok1bvB+Sp5rRzhsioqIQK4Yg5wHeutYJ8396PEg4p2pw9iJ7lYTtgMjUyHX1HL1cipyHlIi5YsWBiudR7YrDolhMYi89l4IUc+d5mD0d4JHkA1ZRvdU0wJ/Jpws8AGdq0MrNbPo9Xj03+kUqZj0snX/l6TYzzncxu2IM1ATxRgk2ejpInFMWoZcXd8RgvhDQCSdvWZ+iRM4Cj5atDiusPrYXOU5YjJ4OAbPpvS1o49cb3y9gh8ueOs+87m27DNOPTootodPmsArSm84/+VwvEFL5DlQ+2dlR8V8WoYyrFqRJYRIR22WAMs1iV3OoVegpkSf6pECA84t1A2Bt8inDnFMVOHKW1w8qaH27Uu1mvO57b6dKcJI3N96pxByXTYZlTx6Ee97rQF2zmC9JD3i0PScw5yiRpfTZE6gcqm13mHzswYRD7/PZrVGI8mjtr3jGU4Rx7Kj+EzdqGaYM4BgPjXDKXg5Sv8beB8gn08/PCnN1/ezOlzBtQqzLHDDtCiLCIqaaOdbs2R0jOtYudAuShOtY3hId9ev9vPTiIwd62ItshgaZM8UggQ9YXSq9jbyuc+J8q0/9HwT9/UmC79L6C+98F+opIy8PA8DSTPA3mJOf7y6b/ULF/LoY4/DTdAjPlq0FXiKMY99lhVBypkwTAzwIx2+57nWCm0GUK6cFJ1wijHOmCRc+4W98bcUojogZNwUKyWcdCv7pdghWfjGPdBu2MnTRFqDsN6Bkk684M8HyMbfWSYgZ4lZF4diF/FuqIM/N/jULBiRSH24MMgQh5hJaMZh6Pzcladl67uS4WjQPWoUeDdfwxfQkPnCuExf+j1Q0pssEoRCtyvQZksb+HhfH6MbKQzzM5sYIv+/86KR3xSxgx1XmRHqSOFm4GlRZPtdif+K8gVjEDXrJZSfsbb6xaEI3LxOyKXBVf7GTeAtBPFJf8I3Da9ByI/Q4NiQey9fzvwPsIb1qRR4qj3nEYaBVcj51oFl6e/NiR+0f2KN6nBLqh10PrEyxMm9vRY3PHIhIUC7JQeHmKuzeU4/9Bw/jsDEXam4mbupQa7TC+UUFtP/+Gg7XVaH4Ud3ALZZh0QOHX+b0oJfbdEyc2+EYHntitvtBoBbNLvRwZ8BPKLDjz/uXOD+k8h24fDLeuAhha77YJPGzi4jtshv230pvPXmrW3TufJ2PAOcX64ZOdJ4OfF+8J5WdCVO+Kn524bRbxJZuH7p6/B+GA9tTP5Gcd9h5owl8JEuMSuu2M3U2cyhYvluah9426fzzOT97MF/pY/9Z+k4XPwsk8OGKpdi2czf2NbD0YmnWqPOb7XAdCKfsxUI2gb3IU1HuVe7Y36taocExkNPrSzg2MW0KC7jSCeswNpr5O9Z6aHmXlMcQuuv7vPSBOWMHT3Wid7IaOS83Yv+echgy1F4NQJHXdYHyMTAh09jHjwiMGTX/zbwd9hy659tSrAMIlfDTdCjPFubcZ+SjdOtu7H5tv1BuDhsDzBMSCM9vud51Qj+DKFeOiz4jlsz4jFcn6MNnAZ//3g0+gyPQM1C6rke6DVcZClRnCszUIaegHFWsjqzfz/L5sOu8QyU8u5gv55IsyHOz4yrLgXC4fj7czcKQhBgOvie0mMd/VQv57OVQsjR0Wk39haJDWl0xQYUcVnwT+YBRRzuafRLW+UG/oPD9O/r7gUayMq6GpbslnLAeC3ytcOaBDQu9TOUHvD7/a4b3SOQgeCxfz/8q672HNgn8VXoNxrWrgQv3SGAYjjliIvZXTsDCBIPi6zli61L2HCSyytz6h9pB3p8c+hfqUfVUJrSz5Ij6aw9s75zEyaYTsPGKyAPTK3lYsaECB0w2XJYpkfqwAVX1gedVRUYfrvq1gAVhWOxJeg1EX58gmLwIyzkZJBHb5QBpddUn00bM7vvQd4m/hm9P4eE67/XCiIYWVqfKVEjN4p+luUN8TlVYw1qGAT4cdGc5cldooGDP476LFpiaT8L4Lm+Svd6EX/Z6mXAJXO7Yn8+cEm8itIlrvUKjwrDhcqyTUsU5N1mpULF0tp6WhtC5GannpR0Nxavx2NPVaHqX2R4T4brHy/GznQaveYOR1XUR1KGcIaax/XWz4A/xIZ/cnRSFigOtRl+hEl6aDu7ZooFh589Q/ng6NNOZCLhih8XE7Oo34jzKwTOydcLgy9UIEvYz8PqUIXlGOepfMiBTq4Kc+Ts951tx8ngTTnw4qIfKkOiLxAUPwPD7cDcXQxNiHQ1iN3mCEnph2GEvbO95tk2Y0fwhK/4TFJi1Ts0byOHgE0+lb3GJORTsJeqvdreg8P3jAiMo0u9j714qfvZCjdt9uoO6hVbXKFY5B75WWXklGq6z+nZeZf+i2evRQNfnfzWsyhsmDog9DlETwur8joxAPS0r4+Dqsh4QPkfsJ+x+Q/5Vh57G5Uaa8JkwC7rZcuTfr0J0sAmeiilCT2tIkZqQhaWzeetwE4qWrcDqtWuwsYjFp9yCLukQLz4worJoDTLS8rC9mdVIMWpkbQrRkzuMDI898Z4Iz7ZnidmsgueJ1W3rL7ORcN4pODbxX5knOCZ+SPbSv7jMYAnSqpitECYLO/4cZI6kB22XhJgifk7AmEIvtPw5YH9H/OyCt876/0INFU+4a12w8dEBkdoTI6zzXkfECfrRSPyHTGCJOHcoogn5Q0T/z/OluYWrsCJzDdZ8rwAlzJ5rOz+XjrjROIURF9FfcMLoV+akvz0hUisCmxDKuMcUgOGBOdb/zesqFbSs7ORoEv3qzOF6Xsom+z0ppPLkj53ZWNmm1VjxaBkaPnAieoYOuQaxJFzXZyd/HsjkUPlsxyMwKTr0yBIXHZUwvd8LJLL6nwlJQah49DByIk7TSJ8tK/WYPyNamBu1akUG1qzNQ8GP2Hl/YcdQS87I1AlDLFejjOvnc8qRpVMLQ/eanl+GFatYHbmpSDin5bo20nkjjjqLhfz/Ez56M/v28MqNQAQ+3BhkaEKMadWmP7HKYZwcmhTm8lxrh2Wv9JVEU+t5VrRkmP4AH3/uxPk/ehSit07gHEv76K8tQOFghtpIKzMG+r3y8bXQ+Hgy4kqP0VAtKPRuZRtBDvw3H/EeD/W/Blgtbtg5hy5WKOO/Mrx3293DVxOKgyLb8w7k0hj+MBmuOWISxuM8b+Mxa9laYTiI453AEzzT4pgDcM2OtlAK75uiQODDATzHdcuzxVbjfpRQes5nYLE9uEscxy6bNEUMGog74uAzQyoihsueFClrxeE9blh+rtYIjSvWlvDksB9nDuEsb6hJXIgn/Vb608DwT9xeHDh3clAyzwMZVNpcn2E7GhQvZJV5mOc3HxHzTal90r/Fea4BS2exjHecwwlfATQ1GWs953Aw5NnZQt3Te75FbEgI2548COe8wwIT4YHGLHU04L3zrG5NnINiPlY/0gn5wc4bJtMm84ThQ8s8H8QarL2PD04KTCCHPyRDKnsHhPSBXI2HB7OKZQQ2ceBtCyuFMUjO9OkdCkj46S7avAxJ95dC8zXmvL8vLdIhMfTnZbc4z0muQI5nmUqQ5gF5wheh8DyGCdTq3/F54kwHTVYJQdfz2dl0npf+AOdO0Er1SHjUmNpYXimgWicKFdt/e/cwhp+mg3y2SA2NPZ80e/UkaB6dxe5uiAy5TghELOK85t0OsVwNO77xi4zr53NqEHcHe7lixznPebSBypabodXJgTj4jo3Ze6D7UyL3Ue4/hE+4PtxYZPCrJkqY326H40GW4LzMtFv9HYQ3WmB7RA3VnTHMaCz9y9YLGLG9QYuqx9XQPrcfynfMsH4itiDETFMi6U47ajMKfMb/etKA148vheohBbRF9VC0mmFjwoMvmZ88rQcXP2H10p3SoZzfbEf9Ir6Sixal+5Uwn7HCwVvZxsdA8bUkTPm4FhnPBL/acGB/pQbGf+CrxeXiZ/UL0foHm/CwwWQ5lDOY9Z1ZNozLyB/E2Y+ZUc9QIZN9Gi6jrjluQZqK5em/VmF3EhNLl1h+3aOG+gvdQkEKvxVkGPlNA8yZGmi/yauDTjQFnOCpRsrdrJK6aPOeOOvLAWaza9j9pWRh32YVzjKbjIqfBU3SbbjMhb90GJCOwpcWYFJbqzgJmN25/D5RvFjeHshVbsZFRy5zuFXQv1CIe5wKxHyWh4Kt0tdhMjz21AvnBA0KX96Nhaes7Pfifajk0cIqYjU7BtsqZUbZDiOUfMXBx3+G+geldGLlTTlbDYWsFzbji94rJg4KJ/ri9PjpayqY3rGjjz1wlHxVPJbVzpZ6bA/n/GfKUGlUolinRu7OeiyU6pKoO5VQ36eA7K82GLf675PTe2kSNP/GysEiXg7Y8dxO7o1HdC87/tVq0RkK2576Ceu8Q0VYuEYBxbwqFEfZIIuPgmlTiVTf2lF5wgJddiI0s5gdRDIhP+R5w4M7xroZ8Zj30yqUCjYt5umkPj7Aij1LvLiALpaOihnzUfXseNhkckT9fiNKgg6ZGo6yx9LnVSPUvrbNkMWzZxcreqfTfPbT8yQCm7DvLcPee/hzS8eeWyr3c4vb5r1yO+pXFYlpG2m6n6mBqU2L9FnJmDrOgVZpkQ43Q35e1uCEJQ2q2ez5w+oWJa9b2G9nsbKPS3ykjMeTYu5abH48Cd1uH4DnN58n3okTR8SGlOv57DT/+CDM38iFmp276lUNzO850CfVU7GOTnadMF3K2iNoTVdB841k8EU6jkuLdLgJO00H+Ww5bkUn84fiH3gJVZMlf0ipgeZLfezZ7F9yImMIdUIAmvkKxly0/nM5Cr/GLDf2M+Q9UzG0cjWMBItfRFw3n/MgWtqZb3evGlmvlkMl2Kscs+5PxG28AuHz7DwZhjo5ILV7cezB/2B1tRbF9QqpTMqg+AdWpzgvMptjdat06ICE5cONTYbYI8aQerU44rL1vtSh5UPeg8IIsJ+Vvb4AT1c2wdrNW+VToV2shVbLnMC4Ppxrbh5w0r556xqU1Jtg+3wilBr2W/Z7VUwXTlYXweLXF29Hw9NPY3sjKwzMQNQPisdr71dB3ncOx09GtkTA4DCh4tktaDDZ0DdRCQ2/Pv9LVmCSw4Sj/1c6bJgQWuj4/ibCuO5h4o0ClNWb0XmFFTghzVOR1GvC9n9rHd55DBEh7Y8TzVyYjrMwBurudw2neN/oMw/ClzqU7WpiD7EoxEs2qYlzwFhRD+/h3Bdg7ejDxERWeQj5mIrECRdxYm9J/1K6QbGjYtcB5mRHI342++38qYgWnzcRMhz2xMpa/RYcOD8JyVrxPlQxfbCZGnyWch4EpyqwppQ5ZB96pNODzLm5YhXSaU3FkM4u0Y3mf2dOZZ8CqcL9820nHLA2bvde5noATBWsLtl7wqsuSb0vFn1tJ1BTyh7+Xiv4ifR9WIstb9ow6T7p+Fns+HYTGryOD9ee+gnvvEPkjS2o5Qsk8Pkn7BrqL/OU9IA7lY5oVqR60faHCJpxBjpvGJh/XCnMSem7Q7JprQpoqcG/nw5UwzRgy+smoT5S8jo9hT36mQManGEqe8y2iyoaYGr3rAO0SJ4+CV1njuKEdFhgIrEJz+dWnPu5xW2i50Nr/35AEac7Oy/vZWJ1ZrTPEDqRoT8vG54pE/LROUEh5uP8JPSd2o6CFp98PN8GG4ts3H0uHyAZsU4LDrxUgBK3vV/PZ2cDCjZsR9MHzJmJU4v1yP1JgKUBZf8VSbOHESeEYT7BhEq4aTrIZwtvUOLP5j4mIl3+0BfZs/HZ08PzbB5snRAAe0U1DvDhpwlq4f6mTpAK4ZDK1fARNH4Rcf18zrrNO9H0oRNRLnvVxMPx2y2ovyAd4Mkw1MmBMaNiLRN0nmWS1dVTPjmJnc9aIrS5MHy4McrfxcfH/6/0nhiTSHtnOI0oYE71UAcSjGbkT1ThtRXKILuwS/tKzWhD3bqNqBlCS96Ygi+aIuyi79ok8uaC7/WSm9IN4+KRaSW9tZDqDu4AZ/j3BhLELUFGOfY/rmYiZztWPHNQCrxVoTqBCJOEQuzjK11+aMTiteE9nUP7cGOXofeIEaMcPvzTDOfUBVg7wC7u8pT50C7SBv97wHs54dGFGjlzlMLw14ATPFc+iTQVYDu2l0QYQYRD1lIkx1yPCfkEcfOgE/ZHBeznb3URxqA6gQgT+bcVwoDe8BfjGsCHG8OQELsFsNdvQW1LH5TLSmEIsSjK/CwDCv+tMPjfpof9N54dLSzRQ50QZIIn38X+YTWiPjyGyq1juU+QIIYLOfJTVYgelgn5BHGTMteA73Dl0WtFyy2vw6hOIMKE+VxPavnyWREsxhXKhxvj0NBE4qbG8EIVbndehfJ+FeL7zKj+XkGAHeiJoNDQRMKTlcXY9s0+OGM10MyQobOxCKvLh2MeH0GMZgyo2j8H4zvO48IFh7Atjix+FlSz4iEb54T1jRLk7bhFxQfVCURQ9City8JUpw3tVruweI6wiNAsBWKie+Fo3ouM50MvCUI+HPWIETc7sUqkPsgK8OdWHCgnEUYQQ+KvMihma6FRRKHzVDUKyOEibgkuwPYJe5xMkxY+YH+aWbHg+4AZK5++dUUYh+oEIihtsNl6MEme6F48J/W+OER9asWJ2i3YMIAIEyAfjnrECIIgCIIgCIIgRhrqESMIgiAIgiAIghhhSIgRBEEQBEEQBEGMMCTECIIgCIIgCIIgRhgSYgRBEARBEARBECMMCTGCIAiCIAiCIIgRhoQYQRAEQRAEQRDECENCjCAIgiAIgiAIYoQhIUYQBEEQBEEQBDHCkBAjCIIgCIIgCIIYYUiIEQRBEARBEARBjDAkxAiCIAiCIAiCIEYYEmIEQRAEQRAEQRAjDAkxgiAIgiAIgiCIEYaEGEEQBEEQBEEQxAhDQowgCIIgCIIgCGKEISFGEARBEARBEAQxwpAQIwiCIAiCIAiCGGFIiBEEQRAEQRAEQYwwJMQIgiAIgiAIgiBGGBJiBEEQBEEQBEEQIwwJMYIgCIIgCIIgiBGGhBhBEARBEARBEMQIQ0KMIAiCIAiCIAhihCEhRhAEQRAEQRAEMcKQECMIgiAIgiAIghhhSIgRBEEQBEEQBEGMMCTECIIgCIIgCIIgRhgSYgRBEARBEARBECMMCTGCIAiCIAiCIIgRhoQYQRAEQRAEQRDECENCjCAIgiAIgiAIYoQhIUYQBEEQBEEQBDHCkBAjCIIgCIIgCIIYYUiIEQRBEARBEARBjDAkxAiCIAiCIAiCIEYYEmIEQRAEQRAEQRAjDAkxgiAIgiAIgiCIEYaEGEEQBEEQBEEQxAhDQowgiDGHfEEhdh+sR/lKKYAgCIIYHLMN2L2/HqUZcvEzQRDDxt/Fx8f/r/SeIAji5meuAbuLFgDHSrCmwiSG3UrMzUXp4zokJ8gApxXGijxUnpK+I4YRDTI3LcS0L8uhvJOlNS7g6NoS1IlfErcg8uW5yJkVh5hp0zAlihW/s7XYuLVJ+vbmRp5RjqpHk3BuTx4K6u1SKEEQQ4V6xAiCGEPoULpJh7iPDqHoVhRhCXqUG/TQRJlx6FQnMFmJ9ByD9GWYzM1HVcNh7N9pYFKDCMq9qVi4YB7mJaugmKGAgomxq9JXxK2Jdt5CzJuvgXomswdmE7IvWKRvbn7s9QWoNvVBvboUhtlSIEEQQ4aEGEEQYwbNs5nQxHTC9Go1bsU2W3V2GtSTgc7325GYEo9oFtbb5xS/DBP9Py+EcnI0ZHIFlFKYF3yY0uFGNO4xYJYYMnZZWY79jY3YvzlTCvDg3QqsSVuGH7zNBC/nYhsaxHfXCTUMOw+j0bgbhjGf8NcH/Qv70di4H+X/KgUMM3XPZGBZ2huwXOGfHLC3jq1ayLjjCCx/U2DB47mgQYoEMTyQECMIYmyQkIMsTTzQZsLOW3IonhrLZ7H7hxP2D2rQ1GiGpeUAdpZWi1+HSfPvzbB+aEHTrrKAw+zUS5Oh4ArvqhNnxaAxS84DKvBBh31XgjvUmq/wNGfi908HhNfrxuzlSJ4hJDycYz3hrws5SFUJuYm+v4gh14X0WVBMYK/O8zC/JQaNGTpqcOQdB6ITF2L9EilsSKShtL4e5enSR4K4BSEhRhDEmED+8HyoJvTC8nblLdkbxucsxd/JX3vgaAaMrxRg49OVONghfBk29voS5K3diLJDgVPRLTw+GutDP7VQxgt9ikxkBZvnkwNVAn91oP2P19nqvhkPIeU/6cQtOOh26CxSIp4LpCudsF5HgaS+Ty6I9+vfQ3pjMB47x6w9Bsm6AL3EETMeUVFRwBeljwRxC0JCjCCIMYAcWfcogGvtsOyVgm410hMhH8denXaci1B8hY8eiXH8lQmPt81CyJglYQ6mxrDXUDblcu5HoPdDnygOBnN82IwxnvLXBfk3pjL5wOiwoEYIuT5oFSPUQ3qjeMuM804genoKqw0IghgqtGoiQRBjgFxUGfVQfnICBatKAjuqCWnI37QU6ok9sPx2JyoOWFmgErpHM7H0/mmQwYkLbx9B3R4j+DfBkKfoof9OKtR8pby+Llh/b0TN3qZh7IXjcfoOtLOV4sprn5hx9NVKHPxA+toLOdIez8E93MO8Ww2tir1xWND0BzE23WdrUB2kZ8sXZboBa/8/FSZdtuDIrgqP66mh36BD0m3s7XgFNA8qIevthPn4WSbHAHtrGWp+IxzohXJJDtIfSIGKp9NnF9BsrGPH9aesfHk+ntSpva83U4ech5di/t38N3aY/08NKoV84vHLR8631JDfztLk42Yc2FWDplCCM4HF+9t6pKbwHoqr6Dp7BDu3HgyZt3yxl5wCdg3+9s5Z0KYwp/qSFU0mGwvowbmjlWg4w78UUT+7D+UPsmPaGrBqR5fbLq6y35jerEHNseBp329H491xc6aoIWsxu+OozsiHbvok9i4KirmpUMp60XnmJM52s6C/mFHGbDU85Oxc7Hpz2b2N75Ls3wl1igzmFu8U0WQVI+vBaYArjaFFznd10Cin4OrHR1H7fF3AHrmB8jsY/nagRNoTOVjI8m38JTOObA3Sq8tt5dtaKV5SXGVqqJ1mmF3HszgVJosCNuY+LdTsrfODJpgusIDPz8H4UoN/XSHYzXJo7uErH3K7OYrXf8GOGyAOuMTj342FL2ZCNcEB008yUBS2OA8/fzzxrYv667WBkEObvRbp/zgN4z8x4ZcvV/uUJf69HtMuNAS04dwdjdAnRnqPgdCjfH8W8PMVKHhDChoqHnkyng/TbjmKmlcGKvcEceMgIUYQxM1Pejn256sRZanDso2B2rs1MOwpRHJnM9oVzKmUMydi71HI0pdD8T+tMHHPVjkf2plMjp2pxopnAgwqYkKu8Ic50M6IQue7JphOs0f7fQuxUKNA1IdGlKytGPKQMc3j5chPVyO+zwbT8Wa8d0mOOYvmQRV7GeY9GwIsG52DbQ0rkTievR0fjWjeI9bbi96/8e/60PZmHjbuGFiIqddVofih23HumBVTFqRC8bkJFRlFEN38fFQd1GEqf+u6xjV2DWGJQHaNQyuwcRd/LzE3F+VPLGfOYR9s7zCn+IyUTrNjcW6X5HDxBT+eTYa90YqpaamI/9SEmkYZvp2uQE+rCZa/sOyYp4VyshPmHWVom/8UdHczR/PUe+iMugcLFzMxyJz0an1B4OFfLA7bDHokXrXA1HyaOWFKzJmvQeKnh/DYuhALuaSXYt+aZMTy937p2Q3TS6tR4uF4ig4p76WyIko+BfZ3TuO9j8fjnsUs7jJmYy8yR9VPpDLx/Gw51j4Yi8vvnsSRd3ow60Edc94voy8mxsuG818+DB1P+C+wuPBRkozeK73Ca9+Hh7BiYxjz/5jdFpetReqUy7AcP4IW5ywseEiF2y73ISYmCpbXl2HjHvFQYYnyjEloPgnMf0iJqDaWF7HJSGJl5OhZZp8LNbittQIZRR4CMJz8DgbfaqIgGReYHSgFOzDD9D8qJE9ow8nf26B4QAflXw5g1Trv4caax7fhqZUqRNlMOPq2FZNmp0HLru+4IwYxn5zA86tK0MyOSyvZh7UpQm4ieoKYgK70g8OELY+UMKHpguVLQSlytKw8f2pF6ymTu/wlOo/hB6x8e4q2gHGYFoVellHRTAxWrwhim75EkD+e8OsXZiSij9VFx3ldpJyDB+5PRNfhx5A3QJnXGHajeM5VnDx1FWp2rYltDd7lgi9Ss04NWbsRix+tkAL70ZbUo3BuDGxvLsaarVLgoBhOIaZB7uZ8LE+JZ2XDhOa330P3l1OxVKtEDLOr6u+z/BDEJm9siUdneY1UvxHEjYWGJhIEcfPz1SniogpXe8TPvmRlYYHMgroi5kzZ+SqCMdCsWgg0lmDF2iKUba1AWakJfP072dc0/kNu+LLwP13PRBhg3vUYVm8qQeV/1qGyaA1qW5yInqFDrkEtHTw4BOcoQ43YPxtRtGINirbWoG5PGTY+dQy2cTFQP/xkgKFANdioX4ZlaY/h5EUxxHqYf+Z/TCCFIcKQkIu1y6bA8vJqFGxth7DGYowc9whfciqRJ5xvGQ6dF0M6mx7rv4aXCDNgd5Ee6piLaPpJHtY87UqnSpg/kSHpfvEOMr+7AJOY4Ch6xQI7X2EuRoOcxcDR0hVYU1SGiq1leN4k5AbUOcVY+Ndf4+mMPJYmlagsfx4m7lBNToIm4IbdcuQ+shyq8Sy/Mzei5JU61LUB8bHMQY5LxHzpqIAcKMJq4b62oPVTHsCE4D5XenqLsP75YSz6sT2oXZeBPGZfla+U4ahVtLEkJia9kUP/wktY/yBzFlv2YsOmMtTsqURBoRHtTERwG758iXfXiFR+T7r2YeZoczqa8JgQl2VhijDRblMT+th9bMBG5nzWvFKAgjfbmZMvXA1O3tknoEbOP6lgb3qepb+VyU4mXhI1SLqwF3lrTyB+rgZ8ylzMnf2WEW5+ByMzQ7SDErcdqJH8xWMoWVWGbtUCJsRZ2JcVXtsoiOWEiYcOI8pY2a3cU4Oy71XDxNI7hgvnzy4KIoxzsHi1mH4vtQq9t2ACaa+Ufst8RJh+cxXWL1YA79Tg+4KtSeXvt8x4ZqjgmZNB43CZ2Rg/INz5YRHljweszOakMxH4bh0ypLrIOi4eMUwEyhNDWjjLs2LkL7iKQ9/PQ9k74oqqvuVCmzxdsEVnV78tetJ0SaxnJ8X42veNQgPDzmLomei+aCwS6vSKPXWoKc/Di82sHmF2lf20NKcteylW/oOStpogRg0kxAiCuPmRarJue2D3R5+iwOX/dxRG5nAl3cVdDOZktNQzEeHRhxUfJb3xRQ3DD7OZs8kb0av9eqUa7NxlBRRfG4JTsrIchToFoq9ZYXzWp2et4wK6uL8kY8Ij6OpiSyEXJsA40C357OEif1iDqR8dx3bec5OdgkQ+58l+wcNJdTHQwhTMqTTohBUVO9+uRpnnkKa5Oijv7IWthedPJuYkXsa540bmUCZBLmQHEzy/2Ihqj9Uu43kvH+dyK/Y8zRxN6SP7BlEhn1xZ0CSySHzuFMSEwJdliGJOuvP8WbeTHpLZ86X5YXa01YtBfrjmh13rRFOFq7Xdm6jxoq25kGc8iazZ7MRXLPjl0w39PRAdNvQIPrET598NkPKzhP5IOC6cjmAILBMXm7IEu+1995dedmv/uEcU3J5z2xK0UE5px3u/ZsdlKyBMBXTHMxZ8TQV2Jlj/WMvfMMLN72DokTJdsoPZKskOOnHyZW7/8YiVerAc7zThoPCOMbcQ+UwsRbuPc2FE9/+I7wLNzVLfL80PCyKQ1JtKmemzCLD7PbjV09ZYGt7Drtdh7S8PXMjwshogDjbJ4MKbHxZh/njyLxooWfJcvuy2cMTKWAZdc8J2NrSF6/9ZjUlnj6Ka2WvgdFFj/gwhFPa2IPnHKiTerxg1QextvNHoXyiEjq8o2mb02z/SdMQqNLBFJ85hNRirfZITcfnciQD1G0HcGEiIEQQx5rG1HMWvj/BHbzoUgofZCfMvfZwM16p0nzq8nfWsbCwQlg1nv/mV/2AW9QRJwMluD93bEhQ1CtPUQgt079kTqPRz6CeJQ+QQhUl3CQH+zGYO1WBXhPvAhEP/xZ1tOfLvVwkt+p1nD/nPnRlgYQr5EwuFPcx4Oln/KIN2USbyCwpRunUf9j83j3lEe1Em+PBWnDb+Gge48EtTiGluN+N1n6FJ7tUZ/7DdewgREwzThGk/3bgYapuCGA0Mh/dj38tM5EY34enFi7FiU014QsZlCxdtCOZSu53Y8ydR5hUPNVSiqoD9vFtCMHiPk5jPzvdPeG8NMDsFcp52AYWfa/XGwCItKLNzkMbFBfudpdl7I4LAK/udg+nAEUFQar8q7UH3YYsUzzoUrFiMxYuXuYe9hZ/fwbChpVGyA1d6260wCnPwzCh7hF9vMTKe78/9zIx5iOdlob0VNR5z9XgjgUKwicCNBKG3GNBBP5cLK36/53BBpUXaowYUPluO3fU/Q67SjgM7yqTywHtbNWJcA8QhohU0I84ff2I0Bhxu2IeqzYWIfutpLNatwMY9oa/N68Jf/oqfVQv91/md9MJywrN31VW+OmHzNF9PenrRJ70dkLmZMDC7KAz4p8aUcVGY8o1A34l/hqwBtpWfXYi02Ty1+H0EWDH3zGdiXCfEQ7nSgIVJ3QHrcYK4UZAQIwjipkfOHuahMNVWoo47yxnSyoKOdjR7OVFAboq4fXHnOaPXwzw3VRQn/U6iNy4nD59/Fl5viy+L9FALDlwv2loD7NzlEkDMnejpbwD3xuXIXupCixAQPvZD1eKCHgl63DOdh9jQutd/uRP3qnNBnMP0r0vbP1+5DdO+nYWsDOaoT4tBr+0Yqp95DKuLXT1AJtS9Ii74EHwlwBBObZoSCv7Ke+0C9EIBtTB9IM0DipYhfqYa2ocN+Okeg9cQt1C44xWiByqoc+8SiteseM/TkXXnsxPn3g7SCNBh9Rd+7tUbQ/TOBUDL5xryN04msIKIXNs5j6t1HET1roPsfuWYw/KN0342+PqC4ed3MMKxA09ykTpLKImwvVfrfe6QjQQeK30GEkiLUpEk3i76vqRm95GF9PtVkE9wMIe9BHkr8lDpFtrpSJk+QBzCbAyJOH88+YUJVpeJT2YCI0WLzKd+it2GgS3cXRcuWSje95U2nPYUzK7eUFZHng5YvkYX7nRk99ESUPhLIwoQhanfXoDYswdRFqAeJ4gbBQkxgiBueuzXwmuf1d4rzn3o7fQYaiSQyxws/sqcNa9l2dOQ+GXxnfPjlgBOYv88oeB7TQ3AfXJR4OAibAGWSXf3vFyx4WyQCe1p00VH1mm3hHBkQ6PO1kDJRWqbGbUBHLD0r4rOYbBhVzJpKKHz/XqsWbtG/PteAUq21sDYEsgl1zLHXWzJ9ku7EI61WzC/H6DXTsCO6u99HxWvN8H8gQ0OwQljDutUHXLWie9D44pXqB6o4EJR/rBKFIrn3/Merpgs5TMXVD756BYiH5n9xYur1zBE71wg1F+R1IWfcO4XJvbWQPnS32sctEeEEXl+ByOc9GaslBpRAsQ7ZCPBIjWmC6cPMsxvchRz0Tk2ND8i3Qf721hUhsr/ZIJH+E4iRBzc5TTM5fEHnz+MjmrkPVmBukYzrO0OOK/xwGgoFuewmiw8tPOShPj293qKpP292DvovGAOPnxvUrSUZmFwqg4V5WUoC/hnRheru7v+GOg78a+i1nuooS9qcUw2K/a2AdJdhniZBbVbAzUjEcSNg4QYQRA3P8KqdkCsPNTiAMFb+uVPpIgipMOMBu6srSxEVWkuZoF5m4LjBXRfDOCVZklzqnqtOLlnkBLIVQtf6sI56W0/auiSRAHkaDkS1NFIiuWeJotjx2CdDDWWzxKvY23hw3vUyH1hGwyLhCBGoF4FfkwVCn3mrQWbp+dHiH26gs7pSciXBHMnzh7h6a1H4cvFcG0tq3miCvsP7se+51Jg3FOGgu+tQcaKVWiQesjGCz2LAxCwB4pfpxS590ofgwpFNXK+LsgwWP9bHO6ZU1KF4n8VgkQ+7fbJZ18hkoniHf33FKh3Tr2uHFUFadKn0Dj+7GNVvsIkqxhVz3pszuvRaxxOj0jY+R2MSHv8rnXB5iOovBsJtDBsLUe+NE44oEhzl28PnF0IvDRFAALEwd1DKmx07h2HUESWPxrkv7wfh/fvQ/F9RtSUFyDv0QyseLQBVr7Yybjx4pDGMHAJwYvnPWsVNVL41hGMoPPDOFNkgljruxKsi34EkTaDdnb7157e9ML65paAczkJ4kZCQowgiJufP3UxN5YvjsD3XApGf0t/5++FADeuYVad7xuFXpbM+fMwhbllfGmHi8Jya8BV7uh4oUGxjg9b7IXtWI0w+V1EcpYO70fVE2EMhjsvxh1/6xNfPZBnZ2Me73m5ZEb9jmDzGvSIu5O/OtH1JyEgchbpcS/3969YcGIHe52tw7x7x6PXInzb7xx6DLuSZzwM3dd64Bo9dUEc/4OocaJw8EYObcFu7Cv1EA+unp5POj0WPBAJOuzvX9SSYD4rDhPNSsW8O6MlgZIGvVYJ2QQZ4uOnCCEidnRd5j2mLO7HxZCQBIiXhomeeRO6YXpX/By0B2b2cszi+XXNipZXWKwS9NB843b0cR9RWuCAeYxePQ3yDB349m9uIZI9B5rbwWyPE6DXkJ3z4SVJ6GkL0V3F6O4RxWfPJa+rQb9E5RX3HI0Gt0tX4wTvNfYm4vwORgg78OK8E8JafVd60CUESMwtxDxXbzZvJJg9H8mJ0fhMGifsFmmCQOJoUJg2D+O7TeJdn7rYv6hLIGZmovy1KuRz1RZOHHiPuk8cAjGo/EnXY+FMJoJk8YgXyrxERxd6eK+Y56IiYcHqDM9VGd3zL0P3hmoni/VsV0dkV7seuOyw76pv7SkiX86HmfJ3fGi3qymDIEYPJMQIgrj5OdAGO3NEomOnIugi8q5hRX7zw9SIY44vd0rs75vZg7sU3066iNPChG47ao9bBAd6ako+pFkxgsOSu60QqXLmIP9up/dKXS5nKVoG5bfSoZOCg/JGA8zcP4hJwsLl/U6tMr0Y5Xom9BwWNARZlU/AtfIgd+QjGbvmiWt4VocFdewucx/V4LY/HvBfOMQ1B21uLgr103Hu9S1uIdLwKzNz34D4+9Z6z8WaqUP+5pfwpMaJk4f7vbvBzA/TxogOIJ/HZ05IQ2l6Itqbtns5n72fmNHwav/iA/IFhVg6SwZny0GfxRVC09vdLsRLvrwY+XP7cGxX/z5SQYdpMrUqxFAYRshXxVsIuWtOyt7TaONi/ssKd28Xj1vpanEBD9G55wumJKLbb7GUbnS9w181yP23DEy31mJLkGGqLmpMbYLdxn3FfTUmjkqRfZ9wNTh7mJRIyIcmsVvqXeTI3T0loeaHcSLN72CENz+MceYQznJ7lMmRNFsMEkSSQSsKOSaRut8CdP98L2LbTvv0HvcKwz75/aU9y+752jFUV0hX66hFs4WllEyF1GxPUck3WS7E7p9kQv7+ETRwLTSkOHgzuPzhsHs504Aa3mAiwH+3FCqZE+b/qgmdhh50XuJXl2GKNKyZ12mFP1ogDqsdoDc06S5uI/4NWjeChl+Z0Mnq/pi/X4g0aZi4AK+jN+/Dzx5Xou8T172ylyUGbNucP8iFlQhi+KENnYkxjBKZm3+MzMmn/TbjJIKhFvZjmWOvxYYBJ9uPJtQofLUc2jgrGnR5CLjDkmE3GnUK5pBXY8XT3sNu1Jt24z8eUqDPzlzLybfB8vMNKHIvJ80cnQ3PYf1DSsicnbB9ehtiE2KETV9P1lag7IDvevF6FL+WzUQac1WOVWL1j8NYoYs5c6U/yITmTuYDdVzE53fEIV7WB9sZI2pfrg6yKIVE9jYczmKCzX4CBatKBmnnepTW50JzmwO2zyci7n+O+WxQrUbuy8XQz2T31N6H2LvARN+L3sv/M/o3pGbp9EkfomLjEHtbHy62+t+HYU8jdFP5hs0+m7neW4h9W5lj6/DcVFpC2LdKB8XnzAkcF4vb3tnrZafyjFKUr+ar2jnR2dENsOvHM7+280wdSoo8lyUPBcu/OpZ/d1yGzRGFuMk9MO0qQAlf0EQgDeUN66Ge7MCJn2T47C2mQ+Fr+UwwXkbn5YmIvWLCzsISHJTu2x0/nj7OScK5W3+xFeaUYuSmRMHB0mziFy3Yy+7bZaHCZtsrlcIcmL7JcSzhD+HFTXzfrIFgQrCkHNlz45ld29AzgeXFlVbUMQGS8mwu1CyvHX0TwceFZhS5rqZH+X72ncwG4yNrUBHK7hiR5HcwgtpBIObmo6ogHcooZqd/ZiLmrii0/3Y7fhmVhSdZ2e5zOBB1Ww+OPc/i7hLdK4tRn5OKiZdt6P4Ci99n3nki4LFZu6P9IpNTk5iNT2RlvB0nf+FTxgcTh4AMJn+k32iY7GN10UVu4gnxkP2tE6ZflKCoNjwLFxD2MGPXuYOVFRu744RYoC8aMlZeAtWR/Ug20hegfEYMP9fQN3R2l6u/sTyx9/jb4TSDWG/0sTQdNxE9vyvBGp9l7gniRkFCjBg1yJfnImfWwPuS9NhO4OTxZphDPuTZA2tzFXJnnEP1hhC9CYQ//AH9Ui6SPqxGnudeR6Mc9b/vQ/mCWFhql2FjgEUvkKDGfFUU7G/5TMCXkKfMh+rLTAhZgtiW8PsYPmsMV/9iQXNECxKEh3KuFgqpd84WJJ6+aEvqUTg3Bo5TZcgoHspQISU0ixSQfWZD06nAVxbjdzV4GglI5+FvrzpgOR5gAQqGkN4T7AGuJYf6ARWi7E0wfSAFeSLlA4Lmgfj7GGExifDT0RvXOQL/PnjcOdJvEezeXenjfW4xbYPEd6YGWoVscHYn/RZe+Ro8r3k85FciuU54+R2M0GkZCFfeeNthyPLrKrshbJsjnkNchcRpC2J/AoOIQzAizB8Bj7rI+3eR0l9WnDYHdD8oF3r5g9ahnEWlqP83DWCqYAJxaDJsuISYyAB2OGC9QRA3BhJixKiBzylYPz8OUV+IRrS4QjDQ24teaSEGAdd3fOPKphoUlfPllv2Rr6vCz1ZOQeuLGSji+9QQkbGEPWyfSkbPmz/Amq03SV9iQj6q9qRDef4AVq3jC06MXTRZxcj6B+B0fQnicxqhm+GAiWydIIgB4XNYC5GeGAXLG0xw7ZKCV5Zj/zo1ZE4zqlcUeM999EBXWg+D5nM0PbN6GJaBT0Np/XcRVZuBgsEOqyaImxyaI0aMGprK12BF2jL84G0+84BxzYqGZcuwjIW5/5YtRl6lCY5xMigWr0XppgAzghJyUPiQErAcwXZyTAfHb7bjiAVQLFyLXM9x96OZjkocMDmARA3WzpXCxiKzC5GfnQrVvalY+I/SRrZ8tUeydYIgBmJROh6YKQPGRUN2h2t+mB7lD/O5ik6YPeZ9+sGerUvvi0Gv5VhE8y2DcxBFGSTCiFsbEmLEqMO1YlqwVbSsB7ZLwz6ioZirh1YI7Ufz6AKoJjjQ+mbNmO4Vub7YUfNmKxzRSixcN+ByE6MGY3E9zJfioXkkF5KLMfb4Soy4IITTCsvfNEicwJyng2U0B5IgiIFxOPE5e3F+0IDaCjvkKTkofTEbapkDlvoyFLjnxvqjW7cUKljwxk/o2UoQwwUJMWKU4dqviD0vgq6ipYLMtR9QVBS8Z5XpoZ/NhJz9XeohGCq/OYpzDiAmZal7lbfRTwMKKoy4+JXlKDWEsXT8zciBBhhbOuGcoITugdtF52nI8ysIgrglOFOGynozehKWo7CxET8rSYP842PYviHDb/EdT+QZ5cjVRMH88zLUhDv/jSCIAaE5YsToQpoIHIMQE4YTDNj9qk5cZrfdiFWPVvS3zknj3PuGvHABwdFv3o/cFIS3otkoQlgWfJMaXa9mkEghCIIYCrMN2P3sHNhf91xNliCI4YB6xIhRhTxZLm5mea2dr9obEPXDKlGEcbF2vNZriIQ2mW9G6rH5qR8aZD63Dbt3bkNxtlYYviZfkIPCzVViWNbY60VRphtQ/vJu7N5aiLSZUqAHyvR85Ke7d8jyoqGNp64M05N9B4CObuzHyrAmjUQYQRDEkDlTgTUrMkiEEcR1gIQYMapITxIlVrD5YXwfofwF/JheOE7tRdle7weDWs5lnGvzU1/4kvaF+M5dNlj6FEjNehLPlZbjJUMalFffg8UeA032UyhdIh0+BuDDSX68JhmwXgAStVj/o1LvDYYTDCjMT0d69lropSAvrN1wsJcYedBtkgmCIAiCIIhBQEMTiVGEtFGkDHC21GH7b5h4cHH7NMyZPx+a+/g+IQ5Yfr0DZTuafCYMuzZatcG4eA0qpFA3swux73kFTGvzUPmwuLkvuxLMu/JQcGk96p/iQyIB25uLsWar8IuI4HvIKGENb4+SRcXYt0HjM78tAhwmbHmkBCEHXybkYNvLS+HcwZc1z0WVUQ/lOJ+0WVeFRr5ZrO8QTzcG7G7UQcGuV5ZRFPp6AloUv/okNEK35mDohuml1T6b5BIEQRAEQYw9SIgRowf3/DCG7/5h6MPlv9hw7g8n0PDrhiCbZUpCDoH3QZEbduNnSWY8tq4SS7cdRqYqGr3v1mDZpjogqxz7s9WQ9VrRwIRadcSTkZnQOcyEjqMJG1aV4awUGpz+jTQHQzgbu/L7fe0eiyiwsrfhcJYK0T6CKkdKh+CbATMxdzATqmuh95bxxHNT1IgZxIawBEEQBEEQNyMkxIhRgyAchF6qTjQ9shplEYuhAYTY8lyk4wCqD6lQWl8ITUyIBUEiRoPcUj1i396CskOjQ0b0368duTsaoU9kKXusAKt/7FqL0tWDyHsFV6CgXgr2InSa3mgaGxuldwRBEAQRPosXL5beEcSNg4QYMWpwiQU+7C68YXC+hCkaEgqx71Ut4vmG0bo8VEvBY5aEfFTtSYdyHBO4zzCB69qIc3Yx9r2QOkA6jG4hRhAEQRAEcbNCQowYJUgOvzA/rBornh6Myx+maHDNi+powqpHyoIPg5ubicJ/ToHsg2Zs33XQfZwyPROqs3U4+IH4mfc8rX8gEd3NO1FxwCoGDsj1H5roxnW/9hMoWFXCUkdi0240PqQYIB1oaCJBEARBEMT1gIQYMTrwmB9mfWMx8naIwZExwGIdEuLeWLIQ86IYCbmo+okK7/26C5p1athd+2hJe5hFNa7C6nImF1aWY1+aE8aWeGQ+NB7HHmHXDWdI5Ugs1iHhul/nme1Y8cxBKTSc+WEcAy3WQRAEQRAEcR0gIUaMCtTP7kP5g/HsHRNR4YqZABh2NkI3oxMnnmHOvGsInhfasOaH6Ur3If18AZ6Peg6vrZgC008yUMTFgdC75PosR/6OcsS+uhrNS+tRqOkalUMdXULMZlyMNW516uqBDDU/jOESyG0NWLxuzA/iJAiCIAiCGDFoHzHiBsKH52mhXZSG5V/jIozhdMKpYmEPqIXNliPFbOe7XsViyn3iZz8S2Hl5b02IDaM51sOVqNjF5MrXlYDjHE5IPTT6RBarK52wSp9PvroVO0/psPDv2UnPt4zK+WZtjh7hNVbu2ilMiczNWcIwUFyzoy2YCOMoY4Veys6PAu7qNqqRLyjE7oP1KF8pBRAEQRCRs7Ic9furkD9X+kwQxLBBPWLEjcM1RykgoYcXBiVrGw5nq3A52HA79kDZv04NWdB9szyQFrmYYnKdS+pN+x8jFq/1iJlwThVsw7YC43CjgWFnMXQzmKZsvwh8OQ5R1wCZLDrE/mEiYm9aH0wv8r3IpMCbgbkG7C5aABwrwZqKm09EDpm5uSh9XIfkBD7p0gpjRR4qT0nfjQE0WQYsvDsWcqUcvD3hwu/WoKRW/I64xUhIQ+5370HcnQpMmzwe+MyC2k0VwYdRR3o8IaAx7EYxr1JL2XP5pqhL5NCuW4+sRcmIY8+66L86YWs1orqoGrfgE4EYxVCPGHHj2LpGWD428N8gRBin9jTargAxM+ZDLQV58cZOlP3keRQ8O4AI48xVQD7OifPvSo9oqTet08Y+ZxWjOEsMzpyvguxKG07vVSO3tBiZYvAowoSKtcuQV7wFO+pq8VLxYzhoE7/p/JPvptieaKGextxc3iN4M4kw6FC6SYe4jw6h6FYUYQl6lBv00ESZcehUJzBZifQcg/TlWGAW1Jr5mDc/GaoZCihmxELWJ30VJvKMUuzbfxj1L+gH1fNOjCIemI+F8+dBc5+S2QKzh8mARfoqIKoUZjsex3/5dvBxFERoTBVFOPRRHHSGcrjGVoxeNMjfUYUn5wLNu76PZbrFyNvOngXJehRvy6EyT4wqSIgRY4w6HHmHPVbl90K/RArywgrTW81BNoT2YZz0ek180Xw3GQo4Yf/AjBzNNERf5KF6pEyPhvP9E6ibuxyaL10cRS2rcuhL9uGwsRH7ntXCeqoJTW81oXlcFuZ/LZrdlw2tR9xrKPqzZCGSuPBsaYBRCroZ0DybCU1MJ0yvVt+Sqy+qs9OgZs5o5/vtSEyJB8tp9PY5xS/DRP/CfjQ27kf5v0oBQ2W2AbsPN6Jxj4HJqKFyFtUbV2DZ8yYwmTnw8NoAZOk0iJdFIyY+CdKgaG94L3djI/ZvHn3NKjcd1zst/7MAGWnL8Mb7vcJHx0cDrLr6VglWex7/IXseCO+I0NhR/Sorc5PVyCjRSWGjEfbc21wI3fhmlDxShJrfiCsZW39TBsufgWjVfEhtqAQxKiAhRow5jC8fhbU3BskPDbHlq94Ei0OGpCWlKN66D/l32mHrjYJ8XhUWTLCgQZgn1oaLn7AH+iQNdq+fBsvPR5Pzn46FGuaIM0E5abJrfUYNDN9bAMW4Xtgaq1ERcEETjhw5DyUj5ooFx/beRG5KQg6y2D2jzYSdY2goXviosXwWlxa8waAGTY1mWFoOYGdpJLMXc5Cq4gP++tD3FzFkqKiXJkPBFeFVJ5NRw8QD00QRddGGA0JA+Jz4gxm2D0xo2FEW0AnPeUAlDHnsu3IrSvnhZWTSMg2z7uYG5jGCISRaKOOFJgphVAARJqd2wtQGxHwjHbkJUthQSC9FfX05y71hZOWTyFKew95nK4IMQYzC+KG3BhHEsEFCjBh7dFRj51EboFqK9QF7xcKlAUUZq1Dy86NoerUAq58uwJq1P8DOQzUoWVshOXBmVKz9PsoaDqLyqdE2dr4HV68yV8N+ArVbG4CZOhh2FEI3Fej83c7Qw/aWrMdSFWD5VRlqBrmC5Y1A/vB8qCb0wvJ25S3ZG8aFdvyd/LUHjmbA+EoBNj5diYOR5OEiJeInsFePRWmGiuYrYr/TcC76kjM9Tnh1XDgdcV6bWLqs+V4RqgOWV3LSh48RSsvZKZBPZq/h9o7Ono+pYSzaRPhiR2WLFYhWYl52wMH/kfHFKERFAYPcdTIAahSmqWBv3IIGvzpPjzie51ccsA9baxBBDB0SYsSYxLy1CHtboqB5vBz6IbXc2WE+3tS/eXKHGc1vmeC9bXMEwx1HlDqU7WrCxQkaZO9pROOWXMy5Zkbdjx/D6h/1b1DtB59j9LgGUS17Ubb3ZpIzcmTdo7i1nav0RMj5kFqnHecGaY/yb0wVVspEhwU1QshQ0SNR0EwOtL89XL2rkfaAREDCHHLSh4uRSstIe0e/GS8e/0knLdwQKQet4FOM45XaoY04uR4s0kMd0wbTK/7PLXl2KnhHv9NyYpjqNYIYHmjVRGIMw5dp/zEyJ5/GD9w9WERo1MIKi3PstdhQ3HCT9Srlosqoh/KTEyhYVRI4vxPSkL9pKdQTe2D57U5UHOCSWgndo5lYev80yJhjf+HtI6jbY/QR297IU/TQfycV6jvZk72vC9bfG1GzN9TCJ5HC4/QdaGcrMSWKOQ+fmHH01Uoc/ED62gs50h7PwT3c4b1bDa2KvXFY0PQHMTbdZ2tQfWiAmC3JQWGy6FbF3KeFmr11ftAE0wUW8Pk5GF9qCJCeoeKohn6DDkm3sbfjFdA8qISstxPm42eFhRHsrWWo8VsAxuN8Vy+g+eBO1ByTQZ3ihNnVEOJidjH2vZCK+GvWCPbuk0ObvRbp/zgN+LgZB3bVoMktVnXIKZC2zLhzFrQpzE2/ZEWTibucPTh3tBINfsN4eXzTkXqfCvLb2f2zcx55vQZGjzzSZBUj60Hv63HbycpaCNXk8bjKrmF6s4bdJ78/Hr8c6L7J0/Mqus4ewc6tByOyw36bHggNMp/LwsK7gQv/9wB2MtvFghzkPKSBcvJVXPhdLUpqA0kUOdQZ7JpzWVqNd13PyfJIxvLIdd3rk5b9eNgJxDh0a38axub0/fRvZr8de86niGX/M5fNedhaghY5j6dj/t3jYf/jL7F9h08Z599/exou/NrTloIwMw2Gx5eyfL8K639tR5lvPs1k6bYoFu+9UhdEHPqUNz8b9kbJynT6AylQcdvg92asc8+XEghQFyrT85HzLTFvzcYtqAxYb0irB98RSdkLAp8/+F2gdkUBGqSgoSDsR/qVk1i87oCwNc48lq/Rf3kPp+3x+M6jeiReNWHvU0UBessI4sZBQowgiLFBOnuo56sRZanDso2B2jw1MOwpRHJnM9oVOmjkDpj2HoUsfTkU/9MK09lu5r3Mh3Ymk2NnqrHimQCuAXNeCn+YA+2MKHS+a4LpNHNs7luIhRoFoj40CkNWh9rCzntx89PViO+zwXS8Ge9dkmPOonlQxV6Gec8GFNT7Okc52NawEol8fM/4aGFOIHp70fs3/l0f2t7Mw8YdgRyqftJK9mFtijiPMHoC72lip7giLmYAhwlbHinxWoRm4DjqUXVQh6n8YFecrrE4XeUBLE6HVmDjLv5eYm4utm3SQxXFztfYDKtMgzTtFPR9GoOYmE6ceH41SpqlYzmurS86mrDqkbKwBLD+uXpk39OFk6euQv2QChPbGvDYOmlOZ3op9q1JhpACfmnYDdNL7PoewzQ97998xgyuQe7RLoQm9hyq9ZJTyZ3Mhyeh+eRVzGfXi2pjgucjDdZq+BTGVtg+i0PyQnYOvlVH6QHcvi4H6mvnYP6DDd0KDXSzmYBhNhWsEUnz+DYUZiSij9nhcW6Hyjl44P5EdB1+DHkh85svZlCFrInNaMZ86GZGwWqyYEpyEnpaj8JyTYMFc29Dq++WFcz2i8vWInXKZViOH0GLcxYWsPu67XIfy6MoWF5fho172HHXIy1dBLSTqYj6K7tO9ACb07txbeov2nifvRXNLZ0Yf89CVvbBzpEnlTFeXxRjzpWTOH1VDd29E2F9wzttA2+WH4DZuah6djluf/8YrLELkDrjss+WIGoUvloObQK7hx3sHt6Qgl240v6Oi1J5i8U998+H5ksWVGQUeS+mxNKo/InlTJz3wfaOmaWpVEfNjsU5nj7CuaW68MJRWJVMALO60Gzqgeq+KLQ1m2CbthC6RDsOPJqHygCiJXdHI/SJLK6V7HyRTtD0ZJiFWO6Ow9Ccewy1spdQOJ+3THlwyYzqDew6JMKIUQYNTSQIYmzw1SniogBXxQ2s/cjKwgKZBXVFzLG181UEY6BZtRBoLMGKtUUo21qBslJxJT7Z1zT+SzTzIZs/Xc9EGHfWHsPqTSWo/M86VBatQW2LE9EzdMg1DG3ehLBXT4YasX82omjFGhRtrUHdnjJsfOoYbONioH74yQBLR9dgo34ZlqU9hpPCSp58Q3L+mf8xwTOACOMcLF4tHv9Sq7iUt9OMvcLv2Z+vCAsrjpXIk35/6Lz4u86mx/rj5CXCDNhdxJzriUyQlLPzvVKDmvI8VJ9hOSQMa/sMFz1FGCPi+WFLSpHxzS4c+n4eyo534XMWFB2XyGSIxIEiYSW9ZWlb0PopD2BO5j7p/tN8hIP7/ptQ9r01KPhRJer+sxJF1WZ0Tk6CRthAXJqr0vQ8KrYyYcVCohPTsTbJip3rVmPjjypYeAEOnmV2GK3AgqIcTHtvO/IeLUDJK5WofOYgLPyrGSomGwKQkIucdCbu3q1DhmSH1nHxiImOhjzRfVeBmZ2DtFl2HC1lcfiTEDMoNUk4vy8Pa47HY85cvtJmDOQq8XAByfZTE/pYumzAxnKWR68UoODNdpZHvNRdhlPaEmP401IiqJ1cZiKMfR/p/DD0otu0E3ms7FewNBfLvgxq/XrwNQE1z+ZjwdVD2PC9MpiFKsU3baXtPdj9dUk2Hhg5ch9fjinvVGL1MxW4+DceWZa+94rfimih5EPo+T34ijCGbt13Wdp3o+lHUnkzOhHL9wiMkeMe6RgBKY3UMRfR9BOWn0+76qhKmD+RIel+qfZw1YXPV8Ii1YXqZOBY2WqUfXoPFsxk5x4nh+Kb4uG+dPXw38gwSRjfOVrIgYql0YX/Y0fTrjJU729CU2MTjK9vx/O1Zjj5ao/rRvNqj8StCgkxgiDGBlJt1m0P3LaqT1Hg8v87CiNzjJLu4g4Uc6Fa6pko8OjDio+S3viihuGH2czB4R1E1X69Ug127tACiq8FdJvDY2U5CnUKRF+zwui74lfHBXQJvg9zTtPFIH+WCvvc8blY3VYhIGLU90vzwy62BW6hjjiO3Dnirw60/zGQZNKgkDlHfEXFzv9b6bXYjfEvkqD2m/cT+fww/SKmKloPoLqD3eNSpTA/qNd21v8e3Ys4BHHqXffPXHYTc/Y8h4VpFrLzXrGhhTvSs3WYNaUd7/2a3XNGnNg71GvDsZdKvBZOmTResrePmKgt9xz2NknsSQrGv2igZElw+bJod5xYGTvXNSdsZ31Uqw/ybykR+9F7Qs9AjkIUtL3v/lK06S9HQYhRrxWmXwhfMeTQb8oSbN99nIT94x6WCwzneZh9F3YZrrQU0KD4iSB20t4lvol0fpjdhK2ec2U7rkLYji5mKjSz9dDPngRLI+8xVWP+DKFUwN7mYTGe9xdAPLlJyIJm+kWc3sH7rfrLg72Vv0pkKyDkRMA5a2nicONrn6FH2K+BER+L27/I8qPDivekID4Xs9wgpdHb1SjzHGI5Vwflnb2wtYjxF+rCcydYXaiGSi7Wha50jb/jdpYnjE/MaAqSoG2XxLI5/nbhZXTAFxlieWHhw147zGh4pQxl5WWo2HMQzXuNsDhY1rKKKVc8miBGDSTECIK4JbC1HMWvj3DHPR2i/9kJ8y99XHGXk/apA17ubFY2Fszg7gn7za/8d1VTT5Acatnt/b0sEcF7UNRCj17v2RMBhgO5HPMoTLpLCPBnNhNRQ1zt0L264Z8CeWCDiKNrBcZAjjonKwvzBMfUhlafbRKC9npFukIeQ8j7wzzfdNB/XZBhaDMFGL7qyv+ATr0c+YvF+4edCZXbtdD+az4KC0qx7bX9KH0AMP28DHX8+873cPLAEUHsaO+dLqZZW7PPdhGuFQWdsDT5bHuxchYUQrp1gU/TC0aMxoDDDftQtbkQ0W89jcW6Fdi4x+tM/nxgwqH/4vM/+1c0bGsVYg3UFmAF31B/WZ4gWgV4D1oKvwMWz2bpOAn1fXIxPQIJ9+FKS4Z8XQ40wqSzAHYySxgAG3bvqD5RnAvpt3/YolhmwZxJkE1nIrDxl2jgAmuRHvfyn1yx4MQO4QCRsBcIOQfTGwdQy9NznQYqnq9cKHiUh7S/54KUpfDHLcHnMo9TIn3PftTv2YbSOeew9dHFWPZImXtYovyJhcL+gbyOsv5RBu2iTOQXFKJ06z7sf24eS9C9KKsVDvUoD65VVtlvfiNe2Vy+Gou5DWSWBN0/0nwl/B3UNVkGlq+Fgf++MQVR46ZAHeg74c+AzLnSiQaANyJNDNS4ItCEbt5iME6OxKANWQRxYyAhRhDEmEA+ThJDQTDVVqKOt6RnSCsLOtrR7LNoQG6KUnjtPGf0cupyU1ViKzFzGo1+Cw30Cxh8/pm3gAsXvtqXIEg8nGJPXIIGfejp7wTxxuX4XupCixAQKR6rGwbqvRpEHN0rMAbpYXOna7tFdFTd9IuU860+vV4uB7jDGl4PCMOd90tShU3K4WROteSUeuJ20gM69em4Z7r4rnfcNHwnIwtZWjUUvKfhWDUK1q5Gkau3qOMgqnfx3hY55kwTe1Paz/oIvxA9RtpkSbwFcyx/YYJVmsIXPTkeyhQtMp/6KXYbNGJgCOyHqsXFW8Jc0VDL52/xN04uKIQgNy67t53zz4lhS0tGOiuXoe0k3OXxXcMJAxzPRKWYU924+IYJddKiGboFSUJ4b9tptzDkhD081sMW8l31y/tGD8GlRsrdYpxs/++gGOTFQTS9IwwYZkJChpipKmhW5KL8Je8VgdO/Lp4bV27DtG+z9MxgwozZXq/tGKqfeQyrPRZfCqcuvNnQfCWWaeIj0idfpKXrCWIUQkKMIIgxgf1aeK207h6KTqvX3CcmC5AiOIe+y6ynIfHL4rvALdau4UbMwRrsXkluJ/AibAGcYveQwSs2nA0yDCptuuj4Ou2W4K3qoVikxnSeMMF6rwYRx/Svio564B42l/BjKf6R2duZdYsE/2FfbgfY9zdhkKlLFuLosDQFEDj9c34CD3mUYbzQ4+eE5Y01WLNW/Mt7ugQVe5hj7SUQXPT3vnb+XgjoJ2iPkRYL/57Hkglec5CFtjuqkfdkBeoazbC2O+C8xgOjoVicE/7QqzRFWD066q+Iue4vpvuFu73VNyeGMy1D2IlbzIa7PL5aGr7rb8Muu4LD7lF+tEgVlLtv48Ngtk9wic/+3icRLaYJRZfF6bdCgB/G5zegYNcBmN61ofOSpMCFOU/9Q6Fl0mZczvfr3em55nsFKNlaA6PvqqMSrrrQecHsUxeGxj0CIAxMtRXCEMGAf3/sQt+1LpgDfSf8MRv3GIYanP75YQFJSIIwApPXJ+G23hDECEFCjCCIsYGwKhsQK/dfzqKf4D0U8idSoOTOoWvY0MpCVJXmYhbfblRwGoHuiwFarLNSkMh7gnqtOLlnUBKovya+1IVz0tt+1NAliYLG0XIk6B44SbHc02Bx7Ag8OGcgAvZeudOAEXEcA/WwqZH7QhUKfYYHdXX4uIE+IkG7aRvKN/BBnz4OcEIOSrcVstBwyMGcRP5bB84d44Ou9Ch8uRiZwncMT/Hn7qHix5Qi12thBd5jIr0diBA9DkGH1C1ZKPbaXWnDaS4WZueifKuBuescDfJf3o/D+/eh+D4jasoLkPdoBlY82gDrFfb1uPGCYx0OoXus/HH82SfXfYV7VjGqnpVS83qkJcPPTlxiVppb1W8nA+Bnw5lIEYYeA7bTDR6iJIhwG8TwWKyUbOGSHS2etuCaH8YFIBOg6nXl2LZJzG15Rin27T+M/dtYgamvRNGmNVitX4aiZrGHLGq8f24HmyPrT39d6DX3LQwSJ4uDOK9+JrzceNL5UN4+fBakV0+dPUuwk97zLWH3ohPESEFCjCCIscGfuph7zp0T0UkITPAeCtfQHtewocz58zAFF3AWzbgojQy6yp1dLzQo1vHhdXxIVU3/vBqXw3x4P6qeGHi4GM6Lccff+sRXD+TZ2eI8qktm1AsT/gOhR5ww18OJrj8JARHj7r36yLVcgAaFafMwvtvE0oARaRxdjrrHnDV5xsPQfa0H4ki2NjiFEznR8wl/dcGuO1fMC1EkqDH/G4mI/rTZ3wFO00ATG4V24egB8J2fk5WKeXdGCysaCrjEn8eCCZqCNMyb0A3Tu/yTtBgJojDeY0iYmwQtCnfuQ6mHyAze++ox9NKnRyVtgUoQxK6hcOol81i8neLv0/VYOFOGaBkTIEJ+S3R0oYf3inX4XicYIYbo+dDdI/bA9FzyPE4O/RIxni7hnqPR4HbRUoY5LcOwE2G+l4edDMQVp5fNyNelio0p9hOorgjQmOIzV0/+rQg3kPbk04vwbM7hDRiCJQi9UnJoNWrIvmARvstapEG8LBqyeIWY1hK2K3zdT1bnvNN/pgtigiJqnCiwvWHnLdiNfaWeTRYhemsHYMokbjuDXxRouBHnKk5C7CIpwJOEXKz9R5ZbfLGcV33mYhLEKICEGEEQY4MDbbAzZzQ6dipzyYLgapX266FQI05YAcwJ+/tmyJeX4ttJF3FaWJjDjtrjFub2AFNT8iHNxBCcxdxthUiVM2f2dztRVOFyORkuhzlaBuW30oXlsEPyRgPM3EOIScLC5f2OlDK9GOV6JvQcFjRUhNgDZ9iG3vQKw7+445b2bD401471O6aDjaNrztrcXBTqp+Pc61ukHjczDp0VNguA/GuuHOObsBdCK40SE5z/JXrcO1nqHeqUhp9e6UEXi2N+ylR0nj0U3lDM28WxW1zcmVneFesS0d603W9Bgt7uduF88uXFyJ/bh2O7XPt4NaDhDI9vPGY96i2ulUvyUf7ik9BcOYkD7vSXu4f1RTI/LP5LokAShsLNzGdO5G1o3e+5bS7LozMNqHEvHMGd7KVQyZww/1dNeGmRIPX0hDGkr8bUJth+3FdcfYf8eqXIvo/Hk5WYni52PmYrid04e8T76sOTloOwk6DUwtzGXu6MlxaJYXFbUIjSZUpEXzKj5j9KfFYt7ISTN77IpmCa5/ELFML7cHsTBc47IKw1GBMHV5+9MqscuXxDM0bPJRax2TlIvssK8+seZ3Xa0PTa9n6BPTMTT2ri0dt+DLUe8xwbfmVmsWUpet9aJlE9mKlD/uaX2G+cOHnYQwIGrQsHQgsFXwZ0CIsCDTdaBUuP3olIzjR43zvfd+6nemYtLA0rirxW2ySI0QJt6EwQxBhB2hQ1zooGXR48XVc3ht1o1CngbKnGiqe9h+OoN+3GfzykQJ+duTOTb4Pl5xs8FgxgzueG57D+ISVkzk7YPr0NsQkxiPrUipN8DsQB36ZhPYpfy2Yijblyxyqx+sfBerI8YA5W6Q8yobmT+UYdF/H5HXGIl/XBdsaI2pervZb39iN7Gw5nMTFkP4GCVSXhOeO+rCxGfU4qJl62ofsLcYj9zISdhd7LrUcWRzVyXy6GfiZLg/Y+xN4FJhJf9N4ugLlN+S8XIn1mFPMHLwJfjkNUuxHbG6KRxZfi7nPAMW4ieo79AGu2Ci49crZWIfNedvwnfZj4RQv2ZhT1D6UMxWwDdj/Pzvl5JzrHxeK29/diwzP9CxgIeVbH8uyOy7A5ohA3uQemXQUo4QtbuNEgd3M+lqfEMzth6XQlitlBLKI+v4jWt2qxfYfnEvR6lO/PhVpmg/GRNajwTJssll/ZLL+Yal61rtLLmZdnlOOlR9WY2G3DZVksuoxlyHvFlWZy6EvKkc0ccTA7vNgNdv14yP7WCdMvSlBUG2YXBd9Id50aMpbWqx6tGEBMSNecK95zzwRmG1daUccEesqz7P5uY3nUNxFc0WUUuXJiuNMyUjsJgWtT6IkO2P7MBCYrx322JtT8sMzb1iVc+RHDhIfNOYndC9A3XgbZuCCbL4dA2DeN1T9w2HDxr7GIG2+H8TUr1I+ze4CYjj3NJVjjatSZm4+qgnQoo5xw/LkbPbex38TK0MfsZntppV+d0L85NosrKx9RsSyvbuvDxdYA5TNEXRiSBAN2v8riG8B2I4bb4ZA3dM7BtoNL4Xy5HvhuNjSTmc3ZmeRlZUcRG4XOs0Y0bK4MmLcEMRogIUYQxJhB/e/7UL4gFpbaZdgYqGU8QY35qijY3zIhkMsqT5kP1ZeZn2RpDrz4gvD7GD5rDFf/YkFzkEnwQ0E5VwuF1DtnCxJPX7Ql9SicGwPHqTJkFIceahYS1/19ZkPTqeBXjiSO4rFXg6cpQ0z38d5pKsUFAdJZPGf46eMmxDlF5FA/oELM+AHOPVMDrULsEQplBzye8iuBvldCs0iOvmBpIp3fyQSC6QMpzBMPO8QAeRWYAa4fCNc9e12Pn0cBWcA4DG9aciK1k+C44sY7nIKksSfu9Gb34tCh+IVUxLN8rUvbGHTOZlBc93vVActx1+IjodJRtCOxvIUuRyLSufhbr2v4INxT8LowKOuq0LhSCev+Vch7Jdz0DsJwCLF0do7s/nO40yrUvRPEKIKEGEEQY4eEfFTtSYfy/DC01o5yNFnFyPoH4HR9CeJzGqGb4YDpxQwU/UY6gCCIwcN7owysLhlvQQMTXK4edv3m/chNYSI50p6kMYEc+TteQ3qCBTUsTQJsYhEZ6aWoz4rCzzMKvObNRYL62X0o/8pJLF4XcAwEQYx6aI4YQRBjh45KHDA5gEQN1oa5EehNyexC5GenQnVvKhb+Yw4UfMoWX4SCRBhBDAvapQ9AyReGmSCDzDU/LKMcWXxz60tm1G691UQYY+5aaBKBTlPt0EUY50ARMoYgwjh8fligfewI4maBhBhBEGMKY3E9zJfioXkkF4HWDxsTfCUGwtqQTissf9MgcYIT5oNlg5sbRhCEH47P+cqETljra1HRIYc6uxQvrVZDNtDCOWMWOXIf0SDefgKVP/Je0uTGwRuhOoPvH0YQNwHjJk2a9EPpPUEQxBjAgsb2u7Bw2RIsjLfi4KmPpfAxxPuX8KWvq6C4expUd/finV9vQcHPx+B9EsQNwn7iY0z8egpS5i/FY6v/CQ9M/zuc+90+lBi2ofEj6aBbCA2777XJn+GtLQY0jJb7v3cOUr/qwKk9pyKb50YQowiaI0YQxJhEWGZ6kxpdr2ZEtLIZQRAE4cHKctR/dxKOl+ehkpaAJ4hhhYQYQRAEQRAEQRDECENzxAiCIAiCIAiCIEYYEmIEQRAEQRAEQRAjDAkxgiAIgiAIgiCIEYaEGEEQBEEQBEEQxAhDQowgCIIgCIIgCGKEISFGEARBEARBEAQxwpAQIwiCIAiCIAiCGGFIiBEEQRAEQRAEQYwwJMQIgiAIgiAIgiBGGBJiBEEQBEEQBEEQIwwJMYIgCIIgCIIgiBGGhBhBEARBEARBEMQIQ0KMIAiCIAiCIAhihCEhRhAEQRAEQRAEMcKQECMIgiAIgiAIghhhSIgRBEEQBEEQBEGMMCTECIIgCIIgCIIgRhgSYgRBEARBEARBECMMCTGCIAiCIAiCIIgRhoQYQRAEQRAEQRDECENCjCAIgiAIgiAIYoQhIUYQBEEQBEEQBDHCkBAjCIIgCIIgCIIYYUiIEQRBEARBEARBjDAkxAiCIAiCIAiCIEYYEmIEQRAEQRAEQRAjDAkxgiAIgiAIgiCIEYaEGEEQBEEQBEEQxAhDQowgCIIgCIIgCGKEISFGEARBEARBEAQxwpAQIwiCIAiCIAiCGGFIiBEEQRAEQRAEQYwowP8PJ3c9puSnMZoAAAAASUVORK5CYII=)"
      ],
      "metadata": {
        "id": "v_Ozxa_dmYDi"
      },
      "id": "v_Ozxa_dmYDi"
    },
    {
      "cell_type": "code",
      "execution_count": 81,
      "id": "ac241e10",
      "metadata": {
        "id": "ac241e10"
      },
      "outputs": [],
      "source": [
        "def prior(matrix, rating):\n",
        "\n",
        "    #numerator=num of items rated as 'rating'\n",
        "    #denominator=num of total items rated anything by active user\n",
        "    count_num=0\n",
        "    count_denom=0\n",
        "\n",
        "    #traversing items\n",
        "    for i in range(1,5):\n",
        "      if matrix[f'Item {i}'][f'User {active_user}'] == rating:\n",
        "        count_num+=1\n",
        "\n",
        "      if matrix[f'Item {i}'][f'User {active_user}'] != 'NaN':\n",
        "        count_denom+=1\n",
        "\n",
        "\n",
        "    prior_total=((count_num+_alpha)/(count_denom+_beta))\n",
        "\n",
        "    #print(prior_total)\n",
        "    return prior_total"
      ]
    },
    {
      "cell_type": "code",
      "source": [
        "#you can check individual here P(Ruj = 5)\n",
        "#or any other prob of ratings between 1-5\n",
        "\n",
        "print(prior(matrix,5))"
      ],
      "metadata": {
        "colab": {
          "base_uri": "https://localhost:8080/"
        },
        "id": "dCePvbL_iEY3",
        "outputId": "88fd4820-e5b7-43c0-b856-a71f5797b75a"
      },
      "id": "dCePvbL_iEY3",
      "execution_count": 82,
      "outputs": [
        {
          "output_type": "stream",
          "name": "stdout",
          "text": [
            "0.3311475409836066\n"
          ]
        }
      ]
    },
    {
      "cell_type": "code",
      "execution_count": 83,
      "id": "f78b75c7",
      "metadata": {
        "id": "f78b75c7"
      },
      "outputs": [],
      "source": [
        "def posterior(matrix, rating):\n",
        "    a=likelihood(matrix,rating)\n",
        "    b=prior(matrix,rating)\n",
        "\n",
        "    pos_total=a*b\n",
        "    return pos_total"
      ]
    },
    {
      "cell_type": "code",
      "source": [
        "#you can check individual here P(Ruj = 5) * P(Ruj = 5 | Pui = 5)\n",
        "#or any other prob of ratings between 1-5\n",
        "\n",
        "print(posterior(matrix,5))"
      ],
      "metadata": {
        "colab": {
          "base_uri": "https://localhost:8080/"
        },
        "id": "mD1YL9IXkKuV",
        "outputId": "c57de444-5463-48ec-be44-d62d53475552"
      },
      "id": "mD1YL9IXkKuV",
      "execution_count": 87,
      "outputs": [
        {
          "output_type": "stream",
          "name": "stdout",
          "text": [
            "2.88918273528511e-05\n"
          ]
        }
      ]
    },
    {
      "cell_type": "markdown",
      "id": "233d7b8a",
      "metadata": {
        "id": "233d7b8a"
      },
      "source": [
        "<h3 style=\"color:red\">Do not change anything beyond this point</h3>"
      ]
    },
    {
      "cell_type": "code",
      "execution_count": 90,
      "id": "c40cf9a5",
      "metadata": {
        "id": "c40cf9a5",
        "colab": {
          "base_uri": "https://localhost:8080/"
        },
        "outputId": "cced6008-8d07-43c2-f0ff-a1c2e79eb05b"
      },
      "outputs": [
        {
          "output_type": "stream",
          "name": "stdout",
          "text": [
            "[2.622950819672131e-05, 2.622950819672131e-05, 1.5084140559803956e-05, 2.622950819672131e-05, 2.88918273528511e-05]\n",
            "\n",
            "Rating for User 1 and Item 4 is: 5\n"
          ]
        }
      ],
      "source": [
        "posteriors = []\n",
        "\n",
        "# calculating posterior for each possible rating i.e. 1, 2, 3, 4, 5\n",
        "for i in range(n_ratings):\n",
        "    posteriors.append(posterior(matrix, i+1))\n",
        "\n",
        "print(posteriors)\n",
        "# selecting rating that gives us the max posterior\n",
        "rating_to_be_given = posteriors.index(max(posteriors)) + 1\n",
        "\n",
        "# printing final answer and verify\n",
        "print(f'\\nRating for User {active_user} and Item {active_item} is: {rating_to_be_given}')"
      ]
    },
    {
      "cell_type": "code",
      "source": [],
      "metadata": {
        "id": "fCQAlA7bkVvb"
      },
      "id": "fCQAlA7bkVvb",
      "execution_count": null,
      "outputs": []
    }
  ],
  "metadata": {
    "kernelspec": {
      "display_name": "Python 3 (ipykernel)",
      "language": "python",
      "name": "python3"
    },
    "language_info": {
      "codemirror_mode": {
        "name": "ipython",
        "version": 3
      },
      "file_extension": ".py",
      "mimetype": "text/x-python",
      "name": "python",
      "nbconvert_exporter": "python",
      "pygments_lexer": "ipython3",
      "version": "3.7.9"
    },
    "colab": {
      "provenance": []
    }
  },
  "nbformat": 4,
  "nbformat_minor": 5
}